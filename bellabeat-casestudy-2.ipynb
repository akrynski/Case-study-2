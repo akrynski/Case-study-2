{
 "cells": [
  {
   "cell_type": "markdown",
   "id": "30daf0f5",
   "metadata": {
    "papermill": {
     "duration": 0.01035,
     "end_time": "2023-01-06T15:07:40.063457",
     "exception": false,
     "start_time": "2023-01-06T15:07:40.053107",
     "status": "completed"
    },
    "tags": []
   },
   "source": [
    "# Intro\n",
    "\n",
    "> Bellabeat is a successful small company, but they have the potential to become a larger player in the\n",
    "> global smart device market. Urška Sršen, cofounder and Chief Creative Officer of Bellabeat, believes that analyzing smart\n",
    "> device fitness data could help unlock new growth opportunities for the company. I have been asked to focus on one of\n",
    "> Bellabeat’s products and analyze smart device data to gain insight into how consumers are using their smart devices."
   ]
  },
  {
   "cell_type": "markdown",
   "id": "51997f4a",
   "metadata": {
    "papermill": {
     "duration": 0.008904,
     "end_time": "2023-01-06T15:07:40.081859",
     "exception": false,
     "start_time": "2023-01-06T15:07:40.072955",
     "status": "completed"
    },
    "tags": []
   },
   "source": [
    "# Business task:\n",
    "\n",
    "* Analyze smart device usage data in order to gain insight into *how consumers use* **non-Bellabeat** *smart devices.* \n",
    "* Select one Bellabeat product to apply these insights to in your presentation. \n",
    "\n",
    "Guide for analysis:\n",
    "1. What are some trends in smart device usage?\n",
    "2. How could these trends apply to Bellabeat customers?\n",
    "3. How could these trends help influence Bellabeat marketing strategy?"
   ]
  },
  {
   "cell_type": "markdown",
   "id": "9c69f2dd",
   "metadata": {
    "papermill": {
     "duration": 0.008854,
     "end_time": "2023-01-06T15:07:40.099336",
     "exception": false,
     "start_time": "2023-01-06T15:07:40.090482",
     "status": "completed"
    },
    "tags": []
   },
   "source": [
    "# Environment setup"
   ]
  },
  {
   "cell_type": "code",
   "execution_count": 1,
   "id": "4db37175",
   "metadata": {
    "execution": {
     "iopub.execute_input": "2023-01-06T15:07:40.122154Z",
     "iopub.status.busy": "2023-01-06T15:07:40.119987Z",
     "iopub.status.idle": "2023-01-06T15:07:40.237364Z",
     "shell.execute_reply": "2023-01-06T15:07:40.235521Z"
    },
    "papermill": {
     "duration": 0.13176,
     "end_time": "2023-01-06T15:07:40.240592",
     "exception": false,
     "start_time": "2023-01-06T15:07:40.108832",
     "status": "completed"
    },
    "tags": []
   },
   "outputs": [],
   "source": [
    "#knitr::opts_chunk$set(warning = FALSE, message = FALSE)"
   ]
  },
  {
   "cell_type": "code",
   "execution_count": 2,
   "id": "3d9feac2",
   "metadata": {
    "execution": {
     "iopub.execute_input": "2023-01-06T15:07:40.296506Z",
     "iopub.status.busy": "2023-01-06T15:07:40.261191Z",
     "iopub.status.idle": "2023-01-06T15:09:07.149091Z",
     "shell.execute_reply": "2023-01-06T15:09:07.146979Z"
    },
    "papermill": {
     "duration": 86.90252,
     "end_time": "2023-01-06T15:09:07.152531",
     "exception": false,
     "start_time": "2023-01-06T15:07:40.250011",
     "status": "completed"
    },
    "tags": []
   },
   "outputs": [
    {
     "name": "stderr",
     "output_type": "stream",
     "text": [
      "Installing package into ‘/usr/local/lib/R/site-library’\n",
      "(as ‘lib’ is unspecified)\n",
      "\n",
      "Installing package into ‘/usr/local/lib/R/site-library’\n",
      "(as ‘lib’ is unspecified)\n",
      "\n",
      "Installing package into ‘/usr/local/lib/R/site-library’\n",
      "(as ‘lib’ is unspecified)\n",
      "\n",
      "Installing package into ‘/usr/local/lib/R/site-library’\n",
      "(as ‘lib’ is unspecified)\n",
      "\n",
      "also installing the dependencies ‘vctrs’, ‘ggplot2’, ‘rstatix’\n",
      "\n",
      "\n",
      "Warning message in install.packages(\"ggpubr\"):\n",
      "“installation of package ‘vctrs’ had non-zero exit status”\n",
      "Warning message in install.packages(\"ggpubr\"):\n",
      "“installation of package ‘ggplot2’ had non-zero exit status”\n",
      "Warning message in install.packages(\"ggpubr\"):\n",
      "“installation of package ‘ggpubr’ had non-zero exit status”\n"
     ]
    }
   ],
   "source": [
    "# install required packages\n",
    "install.packages(\"janitor\")\n",
    "install.packages(\"tidyverse\")\n",
    "install.packages(\"sqldf\")\n",
    "install.packages(\"ggpubr\")\n",
    "#install.packages(\"skimr\")\n"
   ]
  },
  {
   "cell_type": "code",
   "execution_count": 3,
   "id": "50b39de8",
   "metadata": {
    "execution": {
     "iopub.execute_input": "2023-01-06T15:09:07.178631Z",
     "iopub.status.busy": "2023-01-06T15:09:07.177001Z",
     "iopub.status.idle": "2023-01-06T15:09:08.327077Z",
     "shell.execute_reply": "2023-01-06T15:09:08.324694Z"
    },
    "papermill": {
     "duration": 1.165123,
     "end_time": "2023-01-06T15:09:08.330517",
     "exception": false,
     "start_time": "2023-01-06T15:09:07.165394",
     "status": "completed"
    },
    "tags": []
   },
   "outputs": [
    {
     "name": "stderr",
     "output_type": "stream",
     "text": [
      "── \u001b[1mAttaching packages\u001b[22m ─────────────────────────────────────── tidyverse 1.3.2 ──\n",
      "\u001b[32m✔\u001b[39m \u001b[34mggplot2\u001b[39m 3.3.6      \u001b[32m✔\u001b[39m \u001b[34mpurrr  \u001b[39m 0.3.5 \n",
      "\u001b[32m✔\u001b[39m \u001b[34mtibble \u001b[39m 3.1.8      \u001b[32m✔\u001b[39m \u001b[34mdplyr  \u001b[39m 1.0.10\n",
      "\u001b[32m✔\u001b[39m \u001b[34mtidyr  \u001b[39m 1.2.1      \u001b[32m✔\u001b[39m \u001b[34mstringr\u001b[39m 1.4.1 \n",
      "\u001b[32m✔\u001b[39m \u001b[34mreadr  \u001b[39m 2.1.3      \u001b[32m✔\u001b[39m \u001b[34mforcats\u001b[39m 0.5.2 \n",
      "── \u001b[1mConflicts\u001b[22m ────────────────────────────────────────── tidyverse_conflicts() ──\n",
      "\u001b[31m✖\u001b[39m \u001b[34mdplyr\u001b[39m::\u001b[32mfilter()\u001b[39m masks \u001b[34mstats\u001b[39m::filter()\n",
      "\u001b[31m✖\u001b[39m \u001b[34mdplyr\u001b[39m::\u001b[32mlag()\u001b[39m    masks \u001b[34mstats\u001b[39m::lag()\n",
      "\n",
      "Attaching package: ‘janitor’\n",
      "\n",
      "\n",
      "The following objects are masked from ‘package:stats’:\n",
      "\n",
      "    chisq.test, fisher.test\n",
      "\n",
      "\n",
      "Loading required package: gsubfn\n",
      "\n",
      "Loading required package: proto\n",
      "\n",
      "Warning message:\n",
      "“no DISPLAY variable so Tk is not available”\n",
      "Loading required package: RSQLite\n",
      "\n",
      "\n",
      "Attaching package: ‘lubridate’\n",
      "\n",
      "\n",
      "The following objects are masked from ‘package:base’:\n",
      "\n",
      "    date, intersect, setdiff, union\n",
      "\n",
      "\n"
     ]
    }
   ],
   "source": [
    "# This R environment comes with many helpful analytics packages installed\n",
    "# It is defined by the kaggle/rstats Docker image: https://github.com/kaggle/docker-rstats\n",
    "# For example, here's a helpful package to load\n",
    "\n",
    "\n",
    "library(tidyverse) # metapackage of all tidyverse packages\n",
    "library(dplyr)\n",
    "library(janitor)\n",
    "library(ggplot2)\n",
    "library(sqldf)\n",
    "library(ggpubr)\n",
    "#library(skimr)\n",
    "library(lubridate)\n",
    "# You can write up to 20GB to the current directory (/kaggle/working/) that gets preserved as output when you create a version using \"Save & Run All\" \n",
    "# You can also write temporary files to /kaggle/temp/, but they won't be saved outside of the current session"
   ]
  },
  {
   "cell_type": "markdown",
   "id": "4061ff2f",
   "metadata": {
    "papermill": {
     "duration": 0.010537,
     "end_time": "2023-01-06T15:09:08.353133",
     "exception": false,
     "start_time": "2023-01-06T15:09:08.342596",
     "status": "completed"
    },
    "tags": []
   },
   "source": [
    "# Data"
   ]
  },
  {
   "cell_type": "markdown",
   "id": "93f4af71",
   "metadata": {
    "papermill": {
     "duration": 0.010304,
     "end_time": "2023-01-06T15:09:08.373368",
     "exception": false,
     "start_time": "2023-01-06T15:09:08.363064",
     "status": "completed"
    },
    "tags": []
   },
   "source": [
    "#### SOURCES\n",
    "https://zenodo.org/record/53894#.X9oeh3Uzaao\n",
    "\n",
    "#### License\n",
    "CC0: Public Domain\n",
    "\n",
    "-------------------------------------------------------------------------------------------------------------------------------\n",
    "##### The data comes from may-juni 2016 and there are very few different observation sources, so it can be very biased.\n",
    "##### We don't know anything about the measurement conditions, the population or the type of equipment used. "
   ]
  },
  {
   "cell_type": "code",
   "execution_count": 4,
   "id": "a2a66a75",
   "metadata": {
    "_kg_hide-output": true,
    "execution": {
     "iopub.execute_input": "2023-01-06T15:09:08.400733Z",
     "iopub.status.busy": "2023-01-06T15:09:08.398236Z",
     "iopub.status.idle": "2023-01-06T15:09:12.539704Z",
     "shell.execute_reply": "2023-01-06T15:09:12.537196Z"
    },
    "papermill": {
     "duration": 4.1579,
     "end_time": "2023-01-06T15:09:12.542468",
     "exception": false,
     "start_time": "2023-01-06T15:09:08.384568",
     "status": "completed"
    },
    "tags": []
   },
   "outputs": [],
   "source": [
    "steps <- read_csv(\"/kaggle/input/fitbit/Fitabase Data 4.12.16-5.12.16/dailySteps_merged.csv\",show_col_types = FALSE)\n",
    "calories <- read_csv(\"/kaggle/input/fitbit/Fitabase Data 4.12.16-5.12.16/dailyCalories_merged.csv\", show_col_types = FALSE)\n",
    "sleep <- read_csv(\"/kaggle/input/fitbit/Fitabase Data 4.12.16-5.12.16/sleepDay_merged.csv\",show_col_types = FALSE)\n",
    "intensities <- read_csv(\"/kaggle/input/fitbit/Fitabase Data 4.12.16-5.12.16/dailyIntensities_merged.csv\",show_col_types = FALSE)\n",
    "activity <- read_csv(\"/kaggle/input/fitbit/Fitabase Data 4.12.16-5.12.16/dailyActivity_merged.csv\",show_col_types = FALSE)\n",
    "heart <- read_csv(\"/kaggle/input/fitbit/Fitabase Data 4.12.16-5.12.16/heartrate_seconds_merged.csv\",show_col_types = FALSE)\n",
    "weight <- read_csv(\"/kaggle/input/fitbit/Fitabase Data 4.12.16-5.12.16/weightLogInfo_merged.csv\",show_col_types = FALSE)"
   ]
  },
  {
   "cell_type": "code",
   "execution_count": 5,
   "id": "ab56e2c3",
   "metadata": {
    "execution": {
     "iopub.execute_input": "2023-01-06T15:09:12.568796Z",
     "iopub.status.busy": "2023-01-06T15:09:12.566920Z",
     "iopub.status.idle": "2023-01-06T15:09:12.596851Z",
     "shell.execute_reply": "2023-01-06T15:09:12.594740Z"
    },
    "papermill": {
     "duration": 0.045265,
     "end_time": "2023-01-06T15:09:12.599313",
     "exception": false,
     "start_time": "2023-01-06T15:09:12.554048",
     "status": "completed"
    },
    "tags": []
   },
   "outputs": [
    {
     "data": {
      "text/html": [
       "<style>\n",
       ".list-inline {list-style: none; margin:0; padding: 0}\n",
       ".list-inline>li {display: inline-block}\n",
       ".list-inline>li:not(:last-child)::after {content: \"\\00b7\"; padding: 0 .5ex}\n",
       "</style>\n",
       "<ol class=list-inline><li>'dailyActivity_merged.csv'</li><li>'dailyCalories_merged.csv'</li><li>'dailyIntensities_merged.csv'</li><li>'dailySteps_merged.csv'</li><li>'heartrate_seconds_merged.csv'</li><li>'hourlyCalories_merged.csv'</li><li>'hourlyIntensities_merged.csv'</li><li>'hourlySteps_merged.csv'</li><li>'minuteCaloriesNarrow_merged.csv'</li><li>'minuteCaloriesWide_merged.csv'</li><li>'minuteIntensitiesNarrow_merged.csv'</li><li>'minuteIntensitiesWide_merged.csv'</li><li>'minuteMETsNarrow_merged.csv'</li><li>'minuteSleep_merged.csv'</li><li>'minuteStepsNarrow_merged.csv'</li><li>'minuteStepsWide_merged.csv'</li><li>'sleepDay_merged.csv'</li><li>'weightLogInfo_merged.csv'</li></ol>\n"
      ],
      "text/latex": [
       "\\begin{enumerate*}\n",
       "\\item 'dailyActivity\\_merged.csv'\n",
       "\\item 'dailyCalories\\_merged.csv'\n",
       "\\item 'dailyIntensities\\_merged.csv'\n",
       "\\item 'dailySteps\\_merged.csv'\n",
       "\\item 'heartrate\\_seconds\\_merged.csv'\n",
       "\\item 'hourlyCalories\\_merged.csv'\n",
       "\\item 'hourlyIntensities\\_merged.csv'\n",
       "\\item 'hourlySteps\\_merged.csv'\n",
       "\\item 'minuteCaloriesNarrow\\_merged.csv'\n",
       "\\item 'minuteCaloriesWide\\_merged.csv'\n",
       "\\item 'minuteIntensitiesNarrow\\_merged.csv'\n",
       "\\item 'minuteIntensitiesWide\\_merged.csv'\n",
       "\\item 'minuteMETsNarrow\\_merged.csv'\n",
       "\\item 'minuteSleep\\_merged.csv'\n",
       "\\item 'minuteStepsNarrow\\_merged.csv'\n",
       "\\item 'minuteStepsWide\\_merged.csv'\n",
       "\\item 'sleepDay\\_merged.csv'\n",
       "\\item 'weightLogInfo\\_merged.csv'\n",
       "\\end{enumerate*}\n"
      ],
      "text/markdown": [
       "1. 'dailyActivity_merged.csv'\n",
       "2. 'dailyCalories_merged.csv'\n",
       "3. 'dailyIntensities_merged.csv'\n",
       "4. 'dailySteps_merged.csv'\n",
       "5. 'heartrate_seconds_merged.csv'\n",
       "6. 'hourlyCalories_merged.csv'\n",
       "7. 'hourlyIntensities_merged.csv'\n",
       "8. 'hourlySteps_merged.csv'\n",
       "9. 'minuteCaloriesNarrow_merged.csv'\n",
       "10. 'minuteCaloriesWide_merged.csv'\n",
       "11. 'minuteIntensitiesNarrow_merged.csv'\n",
       "12. 'minuteIntensitiesWide_merged.csv'\n",
       "13. 'minuteMETsNarrow_merged.csv'\n",
       "14. 'minuteSleep_merged.csv'\n",
       "15. 'minuteStepsNarrow_merged.csv'\n",
       "16. 'minuteStepsWide_merged.csv'\n",
       "17. 'sleepDay_merged.csv'\n",
       "18. 'weightLogInfo_merged.csv'\n",
       "\n",
       "\n"
      ],
      "text/plain": [
       " [1] \"dailyActivity_merged.csv\"           \"dailyCalories_merged.csv\"          \n",
       " [3] \"dailyIntensities_merged.csv\"        \"dailySteps_merged.csv\"             \n",
       " [5] \"heartrate_seconds_merged.csv\"       \"hourlyCalories_merged.csv\"         \n",
       " [7] \"hourlyIntensities_merged.csv\"       \"hourlySteps_merged.csv\"            \n",
       " [9] \"minuteCaloriesNarrow_merged.csv\"    \"minuteCaloriesWide_merged.csv\"     \n",
       "[11] \"minuteIntensitiesNarrow_merged.csv\" \"minuteIntensitiesWide_merged.csv\"  \n",
       "[13] \"minuteMETsNarrow_merged.csv\"        \"minuteSleep_merged.csv\"            \n",
       "[15] \"minuteStepsNarrow_merged.csv\"       \"minuteStepsWide_merged.csv\"        \n",
       "[17] \"sleepDay_merged.csv\"                \"weightLogInfo_merged.csv\"          "
      ]
     },
     "metadata": {},
     "output_type": "display_data"
    }
   ],
   "source": [
    "list.files(path = \"/kaggle/input/fitbit/Fitabase Data 4.12.16-5.12.16/\")"
   ]
  },
  {
   "cell_type": "markdown",
   "id": "ee0264be",
   "metadata": {
    "papermill": {
     "duration": 0.010464,
     "end_time": "2023-01-06T15:09:12.619955",
     "exception": false,
     "start_time": "2023-01-06T15:09:12.609491",
     "status": "completed"
    },
    "tags": []
   },
   "source": [
    "# Review  and adjust the data.\n",
    "View data to get known the structure, look for duplicates, NAs, empty spaces, errors."
   ]
  },
  {
   "cell_type": "code",
   "execution_count": 6,
   "id": "7db3a775",
   "metadata": {
    "execution": {
     "iopub.execute_input": "2023-01-06T15:09:12.644229Z",
     "iopub.status.busy": "2023-01-06T15:09:12.642525Z",
     "iopub.status.idle": "2023-01-06T15:09:12.710625Z",
     "shell.execute_reply": "2023-01-06T15:09:12.706931Z"
    },
    "papermill": {
     "duration": 0.08283,
     "end_time": "2023-01-06T15:09:12.713308",
     "exception": false,
     "start_time": "2023-01-06T15:09:12.630478",
     "status": "completed"
    },
    "tags": []
   },
   "outputs": [
    {
     "name": "stdout",
     "output_type": "stream",
     "text": [
      "List of 47\n",
      " $ Id                      : num [1:940] 1.5e+09 1.5e+09 1.5e+09 1.5e+09 1.5e+09 ...\n",
      " $ ActivityDay             : chr [1:940] \"4/12/2016\" \"4/13/2016\" \"4/14/2016\" \"4/15/2016\" ...\n",
      " $ StepTotal               : num [1:940] 13162 10735 10460 9762 12669 ...\n",
      " $ Id                      : num [1:940] 1.5e+09 1.5e+09 1.5e+09 1.5e+09 1.5e+09 ...\n",
      " $ ActivityDay             : chr [1:940] \"4/12/2016\" \"4/13/2016\" \"4/14/2016\" \"4/15/2016\" ...\n",
      " $ Calories                : num [1:940] 1985 1797 1776 1745 1863 ...\n",
      " $ Id                      : num [1:413] 1.5e+09 1.5e+09 1.5e+09 1.5e+09 1.5e+09 ...\n",
      " $ SleepDay                : chr [1:413] \"4/12/2016 12:00:00 AM\" \"4/13/2016 12:00:00 AM\" \"4/15/2016 12:00:00 AM\" \"4/16/2016 12:00:00 AM\" ...\n",
      " $ TotalSleepRecords       : num [1:413] 1 2 1 2 1 1 1 1 1 1 ...\n",
      " $ TotalMinutesAsleep      : num [1:413] 327 384 412 340 700 304 360 325 361 430 ...\n",
      " $ TotalTimeInBed          : num [1:413] 346 407 442 367 712 320 377 364 384 449 ...\n",
      " $ Id                      : num [1:940] 1.5e+09 1.5e+09 1.5e+09 1.5e+09 1.5e+09 ...\n",
      " $ ActivityDay             : chr [1:940] \"4/12/2016\" \"4/13/2016\" \"4/14/2016\" \"4/15/2016\" ...\n",
      " $ SedentaryMinutes        : num [1:940] 728 776 1218 726 773 ...\n",
      " $ LightlyActiveMinutes    : num [1:940] 328 217 181 209 221 164 233 264 205 211 ...\n",
      " $ FairlyActiveMinutes     : num [1:940] 13 19 11 34 10 20 16 31 12 8 ...\n",
      " $ VeryActiveMinutes       : num [1:940] 25 21 30 29 36 38 42 50 28 19 ...\n",
      " $ SedentaryActiveDistance : num [1:940] 0 0 0 0 0 0 0 0 0 0 ...\n",
      " $ LightActiveDistance     : num [1:940] 6.06 4.71 3.91 2.83 5.04 ...\n",
      " $ ModeratelyActiveDistance: num [1:940] 0.55 0.69 0.4 1.26 0.41 ...\n",
      " $ VeryActiveDistance      : num [1:940] 1.88 1.57 2.44 2.14 2.71 ...\n",
      " $ Id                      : num [1:940] 1.5e+09 1.5e+09 1.5e+09 1.5e+09 1.5e+09 ...\n",
      " $ ActivityDate            : chr [1:940] \"4/12/2016\" \"4/13/2016\" \"4/14/2016\" \"4/15/2016\" ...\n",
      " $ TotalSteps              : num [1:940] 13162 10735 10460 9762 12669 ...\n",
      " $ TotalDistance           : num [1:940] 8.5 6.97 6.74 6.28 8.16 ...\n",
      " $ TrackerDistance         : num [1:940] 8.5 6.97 6.74 6.28 8.16 ...\n",
      " $ LoggedActivitiesDistance: num [1:940] 0 0 0 0 0 0 0 0 0 0 ...\n",
      " $ VeryActiveDistance      : num [1:940] 1.88 1.57 2.44 2.14 2.71 ...\n",
      " $ ModeratelyActiveDistance: num [1:940] 0.55 0.69 0.4 1.26 0.41 ...\n",
      " $ LightActiveDistance     : num [1:940] 6.06 4.71 3.91 2.83 5.04 ...\n",
      " $ SedentaryActiveDistance : num [1:940] 0 0 0 0 0 0 0 0 0 0 ...\n",
      " $ VeryActiveMinutes       : num [1:940] 25 21 30 29 36 38 42 50 28 19 ...\n",
      " $ FairlyActiveMinutes     : num [1:940] 13 19 11 34 10 20 16 31 12 8 ...\n",
      " $ LightlyActiveMinutes    : num [1:940] 328 217 181 209 221 164 233 264 205 211 ...\n",
      " $ SedentaryMinutes        : num [1:940] 728 776 1218 726 773 ...\n",
      " $ Calories                : num [1:940] 1985 1797 1776 1745 1863 ...\n",
      " $ Id                      : num [1:2483658] 2.02e+09 2.02e+09 2.02e+09 2.02e+09 2.02e+09 ...\n",
      " $ Time                    : chr [1:2483658] \"4/12/2016 7:21:00 AM\" \"4/12/2016 7:21:05 AM\" \"4/12/2016 7:21:10 AM\" \"4/12/2016 7:21:20 AM\" ...\n",
      " $ Value                   : num [1:2483658] 97 102 105 103 101 95 91 93 94 93 ...\n",
      " $ Id                      : num [1:67] 1.50e+09 1.50e+09 1.93e+09 2.87e+09 2.87e+09 ...\n",
      " $ Date                    : chr [1:67] \"5/2/2016 11:59:59 PM\" \"5/3/2016 11:59:59 PM\" \"4/13/2016 1:08:52 AM\" \"4/21/2016 11:59:59 PM\" ...\n",
      " $ WeightKg                : num [1:67] 52.6 52.6 133.5 56.7 57.3 ...\n",
      " $ WeightPounds            : num [1:67] 116 116 294 125 126 ...\n",
      " $ Fat                     : num [1:67] 22 NA NA NA NA 25 NA NA NA NA ...\n",
      " $ BMI                     : num [1:67] 22.6 22.6 47.5 21.5 21.7 ...\n",
      " $ IsManualReport          : logi [1:67] TRUE TRUE FALSE TRUE TRUE TRUE ...\n",
      " $ LogId                   : num [1:67] 1.46e+12 1.46e+12 1.46e+12 1.46e+12 1.46e+12 ...\n"
     ]
    }
   ],
   "source": [
    "datas <- c(steps,calories,sleep,intensities,activity,heart,weight) \n",
    "glimpse(datas)\n",
    "#skim_without_charts(weight)"
   ]
  },
  {
   "cell_type": "markdown",
   "id": "679f8f1e",
   "metadata": {
    "papermill": {
     "duration": 0.010379,
     "end_time": "2023-01-06T15:09:12.734991",
     "exception": false,
     "start_time": "2023-01-06T15:09:12.724612",
     "status": "completed"
    },
    "tags": []
   },
   "source": [
    "##### As I see it is worthwhile to aggregate the data sets into one, by id. I will change column name ActivityDay (all data sets except to heart) to ActivityDate as in activity data set because such a name is more meaningful, as well as the data type of the columns from chr into Date. Columns SleepDay in sleep data set , and Time in heart data set types will be changed from chr into POSIXct because they are of datetime format."
   ]
  },
  {
   "cell_type": "code",
   "execution_count": 7,
   "id": "4845138c",
   "metadata": {
    "execution": {
     "iopub.execute_input": "2023-01-06T15:09:12.759364Z",
     "iopub.status.busy": "2023-01-06T15:09:12.757649Z",
     "iopub.status.idle": "2023-01-06T15:09:17.409035Z",
     "shell.execute_reply": "2023-01-06T15:09:17.406925Z"
    },
    "papermill": {
     "duration": 4.666588,
     "end_time": "2023-01-06T15:09:17.411726",
     "exception": false,
     "start_time": "2023-01-06T15:09:12.745138",
     "status": "completed"
    },
    "tags": []
   },
   "outputs": [],
   "source": [
    "steps <- steps %>% \n",
    "    rename(ActivityDate = ActivityDay) %>% \n",
    "    mutate(ActivityDate = as.Date(ActivityDate,\"%m/%d/%Y\"))\n",
    "\n",
    "calories <- calories %>% \n",
    "    rename(ActivityDate= ActivityDay) %>% \n",
    "    mutate(ActivityDate = as.Date(ActivityDate,\"%m/%d/%Y\"))\n",
    "  \n",
    "intensities <- intensities %>% \n",
    "    rename(ActivityDate = ActivityDay) %>% \n",
    "    mutate(ActivityDate = as.Date(ActivityDate,\"%m/%d/%Y\"))\n",
    "\n",
    "sleep <- sleep %>% mutate(SleepDay = as.POSIXct(SleepDay,format=\"%m/%d/%Y %H:%M:%OS\"))\n",
    "weight.manual <- weight %>% \n",
    "  mutate(Date = as.POSIXct(Date,format=\"%m/%d/%Y %H:%M:%OS\")) %>% \n",
    "  select(-WeightPounds,-Fat,-LogId) %>% \n",
    "  filter(IsManualReport == TRUE)\n",
    "weight.auto <- weight %>% \n",
    "  mutate(Date = as.POSIXct(Date,format=\"%m/%d/%Y %H:%M:%OS\")) %>% \n",
    "  select(-WeightPounds,-Fat,-LogId) %>% \n",
    "  filter(IsManualReport == FALSE)\n",
    "\n",
    "heart <- heart %>% mutate(Time = as.POSIXct(Time,format=\"%m/%d/%Y %H:%M:%OS\"))\n",
    "activity <- activity %>% \n",
    "  mutate(ActivityDate = as.POSIXct(ActivityDate,\"%m/%d/%Y\",tz=\"UTC\"))"
   ]
  },
  {
   "cell_type": "markdown",
   "id": "29eb897f",
   "metadata": {
    "papermill": {
     "duration": 0.010458,
     "end_time": "2023-01-06T15:09:17.432638",
     "exception": false,
     "start_time": "2023-01-06T15:09:17.422180",
     "status": "completed"
    },
    "tags": []
   },
   "source": [
    "# Data clean and merge"
   ]
  },
  {
   "cell_type": "code",
   "execution_count": 8,
   "id": "8a82ca33",
   "metadata": {
    "execution": {
     "iopub.execute_input": "2023-01-06T15:09:17.458219Z",
     "iopub.status.busy": "2023-01-06T15:09:17.456494Z",
     "iopub.status.idle": "2023-01-06T15:10:53.193112Z",
     "shell.execute_reply": "2023-01-06T15:10:53.190965Z"
    },
    "papermill": {
     "duration": 95.755376,
     "end_time": "2023-01-06T15:10:53.198675",
     "exception": false,
     "start_time": "2023-01-06T15:09:17.443299",
     "status": "completed"
    },
    "tags": []
   },
   "outputs": [
    {
     "data": {
      "text/html": [
       "0"
      ],
      "text/latex": [
       "0"
      ],
      "text/markdown": [
       "0"
      ],
      "text/plain": [
       "[1] 0"
      ]
     },
     "metadata": {},
     "output_type": "display_data"
    },
    {
     "data": {
      "text/html": [
       "0"
      ],
      "text/latex": [
       "0"
      ],
      "text/markdown": [
       "0"
      ],
      "text/plain": [
       "[1] 0"
      ]
     },
     "metadata": {},
     "output_type": "display_data"
    },
    {
     "data": {
      "text/html": [
       "0"
      ],
      "text/latex": [
       "0"
      ],
      "text/markdown": [
       "0"
      ],
      "text/plain": [
       "[1] 0"
      ]
     },
     "metadata": {},
     "output_type": "display_data"
    },
    {
     "data": {
      "text/html": [
       "0"
      ],
      "text/latex": [
       "0"
      ],
      "text/markdown": [
       "0"
      ],
      "text/plain": [
       "[1] 0"
      ]
     },
     "metadata": {},
     "output_type": "display_data"
    },
    {
     "data": {
      "text/html": [
       "<style>\n",
       ".list-inline {list-style: none; margin:0; padding: 0}\n",
       ".list-inline>li {display: inline-block}\n",
       ".list-inline>li:not(:last-child)::after {content: \"\\00b7\"; padding: 0 .5ex}\n",
       "</style>\n",
       "<ol class=list-inline><li>863</li><li>3</li></ol>\n"
      ],
      "text/latex": [
       "\\begin{enumerate*}\n",
       "\\item 863\n",
       "\\item 3\n",
       "\\end{enumerate*}\n"
      ],
      "text/markdown": [
       "1. 863\n",
       "2. 3\n",
       "\n",
       "\n"
      ],
      "text/plain": [
       "[1] 863   3"
      ]
     },
     "metadata": {},
     "output_type": "display_data"
    },
    {
     "data": {
      "text/html": [
       "0"
      ],
      "text/latex": [
       "0"
      ],
      "text/markdown": [
       "0"
      ],
      "text/plain": [
       "[1] 0"
      ]
     },
     "metadata": {},
     "output_type": "display_data"
    },
    {
     "data": {
      "text/html": [
       "0"
      ],
      "text/latex": [
       "0"
      ],
      "text/markdown": [
       "0"
      ],
      "text/plain": [
       "[1] 0"
      ]
     },
     "metadata": {},
     "output_type": "display_data"
    },
    {
     "data": {
      "text/html": [
       "0"
      ],
      "text/latex": [
       "0"
      ],
      "text/markdown": [
       "0"
      ],
      "text/plain": [
       "[1] 0"
      ]
     },
     "metadata": {},
     "output_type": "display_data"
    },
    {
     "data": {
      "text/html": [
       "0"
      ],
      "text/latex": [
       "0"
      ],
      "text/markdown": [
       "0"
      ],
      "text/plain": [
       "[1] 0"
      ]
     },
     "metadata": {},
     "output_type": "display_data"
    },
    {
     "data": {
      "text/html": [
       "<style>\n",
       ".list-inline {list-style: none; margin:0; padding: 0}\n",
       ".list-inline>li {display: inline-block}\n",
       ".list-inline>li:not(:last-child)::after {content: \"\\00b7\"; padding: 0 .5ex}\n",
       "</style>\n",
       "<ol class=list-inline><li>936</li><li>3</li></ol>\n"
      ],
      "text/latex": [
       "\\begin{enumerate*}\n",
       "\\item 936\n",
       "\\item 3\n",
       "\\end{enumerate*}\n"
      ],
      "text/markdown": [
       "1. 936\n",
       "2. 3\n",
       "\n",
       "\n"
      ],
      "text/plain": [
       "[1] 936   3"
      ]
     },
     "metadata": {},
     "output_type": "display_data"
    },
    {
     "data": {
      "text/html": [
       "0"
      ],
      "text/latex": [
       "0"
      ],
      "text/markdown": [
       "0"
      ],
      "text/plain": [
       "[1] 0"
      ]
     },
     "metadata": {},
     "output_type": "display_data"
    },
    {
     "data": {
      "text/html": [
       "3"
      ],
      "text/latex": [
       "3"
      ],
      "text/markdown": [
       "3"
      ],
      "text/plain": [
       "[1] 3"
      ]
     },
     "metadata": {},
     "output_type": "display_data"
    },
    {
     "data": {
      "text/html": [
       "0"
      ],
      "text/latex": [
       "0"
      ],
      "text/markdown": [
       "0"
      ],
      "text/plain": [
       "[1] 0"
      ]
     },
     "metadata": {},
     "output_type": "display_data"
    },
    {
     "data": {
      "text/html": [
       "0"
      ],
      "text/latex": [
       "0"
      ],
      "text/markdown": [
       "0"
      ],
      "text/plain": [
       "[1] 0"
      ]
     },
     "metadata": {},
     "output_type": "display_data"
    },
    {
     "data": {
      "text/html": [
       "<style>\n",
       ".list-inline {list-style: none; margin:0; padding: 0}\n",
       ".list-inline>li {display: inline-block}\n",
       ".list-inline>li:not(:last-child)::after {content: \"\\00b7\"; padding: 0 .5ex}\n",
       "</style>\n",
       "<ol class=list-inline><li>410</li><li>5</li></ol>\n"
      ],
      "text/latex": [
       "\\begin{enumerate*}\n",
       "\\item 410\n",
       "\\item 5\n",
       "\\end{enumerate*}\n"
      ],
      "text/markdown": [
       "1. 410\n",
       "2. 5\n",
       "\n",
       "\n"
      ],
      "text/plain": [
       "[1] 410   5"
      ]
     },
     "metadata": {},
     "output_type": "display_data"
    },
    {
     "data": {
      "text/html": [
       "0"
      ],
      "text/latex": [
       "0"
      ],
      "text/markdown": [
       "0"
      ],
      "text/plain": [
       "[1] 0"
      ]
     },
     "metadata": {},
     "output_type": "display_data"
    },
    {
     "data": {
      "text/html": [
       "9334"
      ],
      "text/latex": [
       "9334"
      ],
      "text/markdown": [
       "9334"
      ],
      "text/plain": [
       "[1] 9334"
      ]
     },
     "metadata": {},
     "output_type": "display_data"
    },
    {
     "data": {
      "text/html": [
       "0"
      ],
      "text/latex": [
       "0"
      ],
      "text/markdown": [
       "0"
      ],
      "text/plain": [
       "[1] 0"
      ]
     },
     "metadata": {},
     "output_type": "display_data"
    },
    {
     "data": {
      "text/html": [
       "0"
      ],
      "text/latex": [
       "0"
      ],
      "text/markdown": [
       "0"
      ],
      "text/plain": [
       "[1] 0"
      ]
     },
     "metadata": {},
     "output_type": "display_data"
    },
    {
     "data": {
      "text/html": [
       "<style>\n",
       ".list-inline {list-style: none; margin:0; padding: 0}\n",
       ".list-inline>li {display: inline-block}\n",
       ".list-inline>li:not(:last-child)::after {content: \"\\00b7\"; padding: 0 .5ex}\n",
       "</style>\n",
       "<ol class=list-inline><li>2474324</li><li>3</li></ol>\n"
      ],
      "text/latex": [
       "\\begin{enumerate*}\n",
       "\\item 2474324\n",
       "\\item 3\n",
       "\\end{enumerate*}\n"
      ],
      "text/markdown": [
       "1. 2474324\n",
       "2. 3\n",
       "\n",
       "\n"
      ],
      "text/plain": [
       "[1] 2474324       3"
      ]
     },
     "metadata": {},
     "output_type": "display_data"
    }
   ],
   "source": [
    "sum(is.na(steps))\n",
    "steps <- steps[complete.cases(steps), ]# or:\n",
    "#steps <- steps %>% drop_na()\n",
    "steps <- steps[which(steps$StepTotal !=0 ), ] # Remove zero-rows\n",
    "sum(duplicated(steps))\n",
    "steps <- steps[!duplicated(steps),]\n",
    "sum(is.na(steps))\n",
    "sum(duplicated(steps))\n",
    "dim(steps)\n",
    "#--------------------loops in R are devil ;)\n",
    "sum(is.na(calories))\n",
    "calories <- calories[complete.cases(calories), ]# or:\n",
    "calories <- calories[which(calories$Calories !=0 ), ] # Remove zero-rows\n",
    "sum(duplicated(calories))\n",
    "calories <- calories[!duplicated(calories),]\n",
    "sum(is.na(calories))\n",
    "sum(duplicated(calories))\n",
    "dim(calories)\n",
    "#--------------------loops in R are devil ;)\n",
    "sum(is.na(sleep))\n",
    "sleep <- sleep[complete.cases(sleep), ]# or:\n",
    "# Remove zero-rows - not here - zeros allowed\n",
    "sum(duplicated(sleep))\n",
    "sleep <- sleep[!duplicated(sleep),]\n",
    "sum(is.na(sleep))\n",
    "sum(duplicated(sleep))\n",
    "dim(sleep)\n",
    "#--------------------loops in R are devil ;)\n",
    "sum(is.na(heart))\n",
    "heart <- heart[complete.cases(heart), ]# or:\n",
    "heart <- heart[which(heart$Value !=0 ), ] # Remove zero-rows - we don't like zombies\n",
    "sum(duplicated(heart))\n",
    "heart <- heart[!duplicated(heart),]\n",
    "sum(is.na(heart))\n",
    "sum(duplicated(heart))\n",
    "dim(heart)\n",
    "weight.auto <- weight.auto[!duplicated(weight.auto),]\n",
    "weight.manual <- weight.manual[!duplicated(weight.manual),]"
   ]
  },
  {
   "cell_type": "markdown",
   "id": "4df0ac65",
   "metadata": {
    "papermill": {
     "duration": 0.012607,
     "end_time": "2023-01-06T15:10:53.226782",
     "exception": false,
     "start_time": "2023-01-06T15:10:53.214175",
     "status": "completed"
    },
    "tags": []
   },
   "source": [
    "#### Here is my all_activities data set."
   ]
  },
  {
   "cell_type": "code",
   "execution_count": 9,
   "id": "b08bbb5f",
   "metadata": {
    "execution": {
     "iopub.execute_input": "2023-01-06T15:10:53.255772Z",
     "iopub.status.busy": "2023-01-06T15:10:53.254122Z",
     "iopub.status.idle": "2023-01-06T15:10:53.348252Z",
     "shell.execute_reply": "2023-01-06T15:10:53.346396Z"
    },
    "papermill": {
     "duration": 0.111387,
     "end_time": "2023-01-06T15:10:53.350643",
     "exception": false,
     "start_time": "2023-01-06T15:10:53.239256",
     "status": "completed"
    },
    "tags": []
   },
   "outputs": [
    {
     "data": {
      "text/html": [
       "<table class=\"dataframe\">\n",
       "<caption>A data.frame: 6 × 25</caption>\n",
       "<thead>\n",
       "\t<tr><th></th><th scope=col>Id</th><th scope=col>ActivityDate</th><th scope=col>StepTotal</th><th scope=col>Calories.intensities</th><th scope=col>SedentaryMinutes.intensities</th><th scope=col>LightlyActiveMinutes.intensities</th><th scope=col>FairlyActiveMinutes.intensities</th><th scope=col>VeryActiveMinutes.intensities</th><th scope=col>SedentaryActiveDistance.intensities</th><th scope=col>LightActiveDistance.intensities</th><th scope=col>⋯</th><th scope=col>LoggedActivitiesDistance</th><th scope=col>VeryActiveDistance.activity</th><th scope=col>ModeratelyActiveDistance.activity</th><th scope=col>LightActiveDistance.activity</th><th scope=col>SedentaryActiveDistance.activity</th><th scope=col>VeryActiveMinutes.activity</th><th scope=col>FairlyActiveMinutes.activity</th><th scope=col>LightlyActiveMinutes.activity</th><th scope=col>SedentaryMinutes.activity</th><th scope=col>Calories.activity</th></tr>\n",
       "\t<tr><th></th><th scope=col>&lt;dbl&gt;</th><th scope=col>&lt;date&gt;</th><th scope=col>&lt;dbl&gt;</th><th scope=col>&lt;dbl&gt;</th><th scope=col>&lt;dbl&gt;</th><th scope=col>&lt;dbl&gt;</th><th scope=col>&lt;dbl&gt;</th><th scope=col>&lt;dbl&gt;</th><th scope=col>&lt;dbl&gt;</th><th scope=col>&lt;dbl&gt;</th><th scope=col>⋯</th><th scope=col>&lt;dbl&gt;</th><th scope=col>&lt;dbl&gt;</th><th scope=col>&lt;dbl&gt;</th><th scope=col>&lt;dbl&gt;</th><th scope=col>&lt;dbl&gt;</th><th scope=col>&lt;dbl&gt;</th><th scope=col>&lt;dbl&gt;</th><th scope=col>&lt;dbl&gt;</th><th scope=col>&lt;dbl&gt;</th><th scope=col>&lt;dbl&gt;</th></tr>\n",
       "</thead>\n",
       "<tbody>\n",
       "\t<tr><th scope=row>1</th><td>1503960366</td><td>2016-04-12</td><td>13162</td><td>1985</td><td> 728</td><td>328</td><td>13</td><td>25</td><td>0</td><td>6.06</td><td>⋯</td><td>0</td><td>1.88</td><td>0.55</td><td>6.06</td><td>0</td><td>25</td><td>13</td><td>328</td><td> 728</td><td>1985</td></tr>\n",
       "\t<tr><th scope=row>2</th><td>1503960366</td><td>2016-04-13</td><td>10735</td><td>1797</td><td> 776</td><td>217</td><td>19</td><td>21</td><td>0</td><td>4.71</td><td>⋯</td><td>0</td><td>1.57</td><td>0.69</td><td>4.71</td><td>0</td><td>21</td><td>19</td><td>217</td><td> 776</td><td>1797</td></tr>\n",
       "\t<tr><th scope=row>3</th><td>1503960366</td><td>2016-04-14</td><td>10460</td><td>1776</td><td>1218</td><td>181</td><td>11</td><td>30</td><td>0</td><td>3.91</td><td>⋯</td><td>0</td><td>2.44</td><td>0.40</td><td>3.91</td><td>0</td><td>30</td><td>11</td><td>181</td><td>1218</td><td>1776</td></tr>\n",
       "\t<tr><th scope=row>4</th><td>1503960366</td><td>2016-04-15</td><td> 9762</td><td>1745</td><td> 726</td><td>209</td><td>34</td><td>29</td><td>0</td><td>2.83</td><td>⋯</td><td>0</td><td>2.14</td><td>1.26</td><td>2.83</td><td>0</td><td>29</td><td>34</td><td>209</td><td> 726</td><td>1745</td></tr>\n",
       "\t<tr><th scope=row>5</th><td>1503960366</td><td>2016-04-16</td><td>12669</td><td>1863</td><td> 773</td><td>221</td><td>10</td><td>36</td><td>0</td><td>5.04</td><td>⋯</td><td>0</td><td>2.71</td><td>0.41</td><td>5.04</td><td>0</td><td>36</td><td>10</td><td>221</td><td> 773</td><td>1863</td></tr>\n",
       "\t<tr><th scope=row>6</th><td>1503960366</td><td>2016-04-17</td><td> 9705</td><td>1728</td><td> 539</td><td>164</td><td>20</td><td>38</td><td>0</td><td>2.51</td><td>⋯</td><td>0</td><td>3.19</td><td>0.78</td><td>2.51</td><td>0</td><td>38</td><td>20</td><td>164</td><td> 539</td><td>1728</td></tr>\n",
       "</tbody>\n",
       "</table>\n"
      ],
      "text/latex": [
       "A data.frame: 6 × 25\n",
       "\\begin{tabular}{r|lllllllllllllllllllll}\n",
       "  & Id & ActivityDate & StepTotal & Calories.intensities & SedentaryMinutes.intensities & LightlyActiveMinutes.intensities & FairlyActiveMinutes.intensities & VeryActiveMinutes.intensities & SedentaryActiveDistance.intensities & LightActiveDistance.intensities & ⋯ & LoggedActivitiesDistance & VeryActiveDistance.activity & ModeratelyActiveDistance.activity & LightActiveDistance.activity & SedentaryActiveDistance.activity & VeryActiveMinutes.activity & FairlyActiveMinutes.activity & LightlyActiveMinutes.activity & SedentaryMinutes.activity & Calories.activity\\\\\n",
       "  & <dbl> & <date> & <dbl> & <dbl> & <dbl> & <dbl> & <dbl> & <dbl> & <dbl> & <dbl> & ⋯ & <dbl> & <dbl> & <dbl> & <dbl> & <dbl> & <dbl> & <dbl> & <dbl> & <dbl> & <dbl>\\\\\n",
       "\\hline\n",
       "\t1 & 1503960366 & 2016-04-12 & 13162 & 1985 &  728 & 328 & 13 & 25 & 0 & 6.06 & ⋯ & 0 & 1.88 & 0.55 & 6.06 & 0 & 25 & 13 & 328 &  728 & 1985\\\\\n",
       "\t2 & 1503960366 & 2016-04-13 & 10735 & 1797 &  776 & 217 & 19 & 21 & 0 & 4.71 & ⋯ & 0 & 1.57 & 0.69 & 4.71 & 0 & 21 & 19 & 217 &  776 & 1797\\\\\n",
       "\t3 & 1503960366 & 2016-04-14 & 10460 & 1776 & 1218 & 181 & 11 & 30 & 0 & 3.91 & ⋯ & 0 & 2.44 & 0.40 & 3.91 & 0 & 30 & 11 & 181 & 1218 & 1776\\\\\n",
       "\t4 & 1503960366 & 2016-04-15 &  9762 & 1745 &  726 & 209 & 34 & 29 & 0 & 2.83 & ⋯ & 0 & 2.14 & 1.26 & 2.83 & 0 & 29 & 34 & 209 &  726 & 1745\\\\\n",
       "\t5 & 1503960366 & 2016-04-16 & 12669 & 1863 &  773 & 221 & 10 & 36 & 0 & 5.04 & ⋯ & 0 & 2.71 & 0.41 & 5.04 & 0 & 36 & 10 & 221 &  773 & 1863\\\\\n",
       "\t6 & 1503960366 & 2016-04-17 &  9705 & 1728 &  539 & 164 & 20 & 38 & 0 & 2.51 & ⋯ & 0 & 3.19 & 0.78 & 2.51 & 0 & 38 & 20 & 164 &  539 & 1728\\\\\n",
       "\\end{tabular}\n"
      ],
      "text/markdown": [
       "\n",
       "A data.frame: 6 × 25\n",
       "\n",
       "| <!--/--> | Id &lt;dbl&gt; | ActivityDate &lt;date&gt; | StepTotal &lt;dbl&gt; | Calories.intensities &lt;dbl&gt; | SedentaryMinutes.intensities &lt;dbl&gt; | LightlyActiveMinutes.intensities &lt;dbl&gt; | FairlyActiveMinutes.intensities &lt;dbl&gt; | VeryActiveMinutes.intensities &lt;dbl&gt; | SedentaryActiveDistance.intensities &lt;dbl&gt; | LightActiveDistance.intensities &lt;dbl&gt; | ⋯ ⋯ | LoggedActivitiesDistance &lt;dbl&gt; | VeryActiveDistance.activity &lt;dbl&gt; | ModeratelyActiveDistance.activity &lt;dbl&gt; | LightActiveDistance.activity &lt;dbl&gt; | SedentaryActiveDistance.activity &lt;dbl&gt; | VeryActiveMinutes.activity &lt;dbl&gt; | FairlyActiveMinutes.activity &lt;dbl&gt; | LightlyActiveMinutes.activity &lt;dbl&gt; | SedentaryMinutes.activity &lt;dbl&gt; | Calories.activity &lt;dbl&gt; |\n",
       "|---|---|---|---|---|---|---|---|---|---|---|---|---|---|---|---|---|---|---|---|---|---|\n",
       "| 1 | 1503960366 | 2016-04-12 | 13162 | 1985 |  728 | 328 | 13 | 25 | 0 | 6.06 | ⋯ | 0 | 1.88 | 0.55 | 6.06 | 0 | 25 | 13 | 328 |  728 | 1985 |\n",
       "| 2 | 1503960366 | 2016-04-13 | 10735 | 1797 |  776 | 217 | 19 | 21 | 0 | 4.71 | ⋯ | 0 | 1.57 | 0.69 | 4.71 | 0 | 21 | 19 | 217 |  776 | 1797 |\n",
       "| 3 | 1503960366 | 2016-04-14 | 10460 | 1776 | 1218 | 181 | 11 | 30 | 0 | 3.91 | ⋯ | 0 | 2.44 | 0.40 | 3.91 | 0 | 30 | 11 | 181 | 1218 | 1776 |\n",
       "| 4 | 1503960366 | 2016-04-15 |  9762 | 1745 |  726 | 209 | 34 | 29 | 0 | 2.83 | ⋯ | 0 | 2.14 | 1.26 | 2.83 | 0 | 29 | 34 | 209 |  726 | 1745 |\n",
       "| 5 | 1503960366 | 2016-04-16 | 12669 | 1863 |  773 | 221 | 10 | 36 | 0 | 5.04 | ⋯ | 0 | 2.71 | 0.41 | 5.04 | 0 | 36 | 10 | 221 |  773 | 1863 |\n",
       "| 6 | 1503960366 | 2016-04-17 |  9705 | 1728 |  539 | 164 | 20 | 38 | 0 | 2.51 | ⋯ | 0 | 3.19 | 0.78 | 2.51 | 0 | 38 | 20 | 164 |  539 | 1728 |\n",
       "\n"
      ],
      "text/plain": [
       "  Id         ActivityDate StepTotal Calories.intensities\n",
       "1 1503960366 2016-04-12   13162     1985                \n",
       "2 1503960366 2016-04-13   10735     1797                \n",
       "3 1503960366 2016-04-14   10460     1776                \n",
       "4 1503960366 2016-04-15    9762     1745                \n",
       "5 1503960366 2016-04-16   12669     1863                \n",
       "6 1503960366 2016-04-17    9705     1728                \n",
       "  SedentaryMinutes.intensities LightlyActiveMinutes.intensities\n",
       "1  728                         328                             \n",
       "2  776                         217                             \n",
       "3 1218                         181                             \n",
       "4  726                         209                             \n",
       "5  773                         221                             \n",
       "6  539                         164                             \n",
       "  FairlyActiveMinutes.intensities VeryActiveMinutes.intensities\n",
       "1 13                              25                           \n",
       "2 19                              21                           \n",
       "3 11                              30                           \n",
       "4 34                              29                           \n",
       "5 10                              36                           \n",
       "6 20                              38                           \n",
       "  SedentaryActiveDistance.intensities LightActiveDistance.intensities ⋯\n",
       "1 0                                   6.06                            ⋯\n",
       "2 0                                   4.71                            ⋯\n",
       "3 0                                   3.91                            ⋯\n",
       "4 0                                   2.83                            ⋯\n",
       "5 0                                   5.04                            ⋯\n",
       "6 0                                   2.51                            ⋯\n",
       "  LoggedActivitiesDistance VeryActiveDistance.activity\n",
       "1 0                        1.88                       \n",
       "2 0                        1.57                       \n",
       "3 0                        2.44                       \n",
       "4 0                        2.14                       \n",
       "5 0                        2.71                       \n",
       "6 0                        3.19                       \n",
       "  ModeratelyActiveDistance.activity LightActiveDistance.activity\n",
       "1 0.55                              6.06                        \n",
       "2 0.69                              4.71                        \n",
       "3 0.40                              3.91                        \n",
       "4 1.26                              2.83                        \n",
       "5 0.41                              5.04                        \n",
       "6 0.78                              2.51                        \n",
       "  SedentaryActiveDistance.activity VeryActiveMinutes.activity\n",
       "1 0                                25                        \n",
       "2 0                                21                        \n",
       "3 0                                30                        \n",
       "4 0                                29                        \n",
       "5 0                                36                        \n",
       "6 0                                38                        \n",
       "  FairlyActiveMinutes.activity LightlyActiveMinutes.activity\n",
       "1 13                           328                          \n",
       "2 19                           217                          \n",
       "3 11                           181                          \n",
       "4 34                           209                          \n",
       "5 10                           221                          \n",
       "6 20                           164                          \n",
       "  SedentaryMinutes.activity Calories.activity\n",
       "1  728                      1985             \n",
       "2  776                      1797             \n",
       "3 1218                      1776             \n",
       "4  726                      1745             \n",
       "5  773                      1863             \n",
       "6  539                      1728             "
      ]
     },
     "metadata": {},
     "output_type": "display_data"
    }
   ],
   "source": [
    "list_df<-list(steps,calories,intensities,activity)\n",
    "sfx <- c(\".steps\",\".calories\",\".intensities\",\".activity\")\n",
    "all_activities <-list_df[[1]]\n",
    "for(i in head(seq_along(list_df),-1)){\n",
    "    all_activities <- merge(all_activities, list_df[[i+1]], all = TRUE,\n",
    "                 suffixes = sfx[i:(i+1)], by = c(\"Id\",\"ActivityDate\"))\n",
    "}\n",
    "\n",
    "head(all_activities) "
   ]
  },
  {
   "cell_type": "code",
   "execution_count": 10,
   "id": "acf10236",
   "metadata": {
    "execution": {
     "iopub.execute_input": "2023-01-06T15:10:53.380515Z",
     "iopub.status.busy": "2023-01-06T15:10:53.378911Z",
     "iopub.status.idle": "2023-01-06T15:10:53.429975Z",
     "shell.execute_reply": "2023-01-06T15:10:53.428048Z"
    },
    "papermill": {
     "duration": 0.068858,
     "end_time": "2023-01-06T15:10:53.432608",
     "exception": false,
     "start_time": "2023-01-06T15:10:53.363750",
     "status": "completed"
    },
    "tags": []
   },
   "outputs": [
    {
     "data": {
      "text/html": [
       "<table class=\"dataframe\">\n",
       "<caption>A tibble: 33 × 2</caption>\n",
       "<thead>\n",
       "\t<tr><th scope=col>Id</th><th scope=col>mean</th></tr>\n",
       "\t<tr><th scope=col>&lt;dbl&gt;</th><th scope=col>&lt;dbl&gt;</th></tr>\n",
       "</thead>\n",
       "<tbody>\n",
       "\t<tr><td>1503960366</td><td>1816.419</td></tr>\n",
       "\t<tr><td>1624580081</td><td>1483.355</td></tr>\n",
       "\t<tr><td>1644430081</td><td>2811.300</td></tr>\n",
       "\t<tr><td>1844505072</td><td>1573.484</td></tr>\n",
       "\t<tr><td>1927972279</td><td>2172.806</td></tr>\n",
       "\t<tr><td>2022484408</td><td>2509.968</td></tr>\n",
       "\t<tr><td>2026352035</td><td>1540.645</td></tr>\n",
       "\t<tr><td>2320127002</td><td>1724.161</td></tr>\n",
       "\t<tr><td>2347167796</td><td>2043.444</td></tr>\n",
       "\t<tr><td>2873212765</td><td>1916.968</td></tr>\n",
       "\t<tr><td>3372868164</td><td>1933.100</td></tr>\n",
       "\t<tr><td>3977333714</td><td>1513.667</td></tr>\n",
       "\t<tr><td>4020332650</td><td>2385.806</td></tr>\n",
       "\t<tr><td>4057192912</td><td>1973.750</td></tr>\n",
       "\t<tr><td>4319703577</td><td>2037.677</td></tr>\n",
       "\t<tr><td>4388161847</td><td>3093.871</td></tr>\n",
       "\t<tr><td>4445114986</td><td>2186.194</td></tr>\n",
       "\t<tr><td>4558609924</td><td>2033.258</td></tr>\n",
       "\t<tr><td>4702921684</td><td>2965.548</td></tr>\n",
       "\t<tr><td>5553957443</td><td>1875.677</td></tr>\n",
       "\t<tr><td>5577150313</td><td>3359.633</td></tr>\n",
       "\t<tr><td>6117666160</td><td>2261.143</td></tr>\n",
       "\t<tr><td>6290855005</td><td>2599.621</td></tr>\n",
       "\t<tr><td>6775888955</td><td>2131.769</td></tr>\n",
       "\t<tr><td>6962181067</td><td>1982.032</td></tr>\n",
       "\t<tr><td>7007744171</td><td>2544.000</td></tr>\n",
       "\t<tr><td>7086361926</td><td>2566.355</td></tr>\n",
       "\t<tr><td>8053475328</td><td>2945.806</td></tr>\n",
       "\t<tr><td>8253242879</td><td>1788.000</td></tr>\n",
       "\t<tr><td>8378563200</td><td>3436.581</td></tr>\n",
       "\t<tr><td>8583815059</td><td>2732.032</td></tr>\n",
       "\t<tr><td>8792009665</td><td>1962.310</td></tr>\n",
       "\t<tr><td>8877689391</td><td>3420.258</td></tr>\n",
       "</tbody>\n",
       "</table>\n"
      ],
      "text/latex": [
       "A tibble: 33 × 2\n",
       "\\begin{tabular}{ll}\n",
       " Id & mean\\\\\n",
       " <dbl> & <dbl>\\\\\n",
       "\\hline\n",
       "\t 1503960366 & 1816.419\\\\\n",
       "\t 1624580081 & 1483.355\\\\\n",
       "\t 1644430081 & 2811.300\\\\\n",
       "\t 1844505072 & 1573.484\\\\\n",
       "\t 1927972279 & 2172.806\\\\\n",
       "\t 2022484408 & 2509.968\\\\\n",
       "\t 2026352035 & 1540.645\\\\\n",
       "\t 2320127002 & 1724.161\\\\\n",
       "\t 2347167796 & 2043.444\\\\\n",
       "\t 2873212765 & 1916.968\\\\\n",
       "\t 3372868164 & 1933.100\\\\\n",
       "\t 3977333714 & 1513.667\\\\\n",
       "\t 4020332650 & 2385.806\\\\\n",
       "\t 4057192912 & 1973.750\\\\\n",
       "\t 4319703577 & 2037.677\\\\\n",
       "\t 4388161847 & 3093.871\\\\\n",
       "\t 4445114986 & 2186.194\\\\\n",
       "\t 4558609924 & 2033.258\\\\\n",
       "\t 4702921684 & 2965.548\\\\\n",
       "\t 5553957443 & 1875.677\\\\\n",
       "\t 5577150313 & 3359.633\\\\\n",
       "\t 6117666160 & 2261.143\\\\\n",
       "\t 6290855005 & 2599.621\\\\\n",
       "\t 6775888955 & 2131.769\\\\\n",
       "\t 6962181067 & 1982.032\\\\\n",
       "\t 7007744171 & 2544.000\\\\\n",
       "\t 7086361926 & 2566.355\\\\\n",
       "\t 8053475328 & 2945.806\\\\\n",
       "\t 8253242879 & 1788.000\\\\\n",
       "\t 8378563200 & 3436.581\\\\\n",
       "\t 8583815059 & 2732.032\\\\\n",
       "\t 8792009665 & 1962.310\\\\\n",
       "\t 8877689391 & 3420.258\\\\\n",
       "\\end{tabular}\n"
      ],
      "text/markdown": [
       "\n",
       "A tibble: 33 × 2\n",
       "\n",
       "| Id &lt;dbl&gt; | mean &lt;dbl&gt; |\n",
       "|---|---|\n",
       "| 1503960366 | 1816.419 |\n",
       "| 1624580081 | 1483.355 |\n",
       "| 1644430081 | 2811.300 |\n",
       "| 1844505072 | 1573.484 |\n",
       "| 1927972279 | 2172.806 |\n",
       "| 2022484408 | 2509.968 |\n",
       "| 2026352035 | 1540.645 |\n",
       "| 2320127002 | 1724.161 |\n",
       "| 2347167796 | 2043.444 |\n",
       "| 2873212765 | 1916.968 |\n",
       "| 3372868164 | 1933.100 |\n",
       "| 3977333714 | 1513.667 |\n",
       "| 4020332650 | 2385.806 |\n",
       "| 4057192912 | 1973.750 |\n",
       "| 4319703577 | 2037.677 |\n",
       "| 4388161847 | 3093.871 |\n",
       "| 4445114986 | 2186.194 |\n",
       "| 4558609924 | 2033.258 |\n",
       "| 4702921684 | 2965.548 |\n",
       "| 5553957443 | 1875.677 |\n",
       "| 5577150313 | 3359.633 |\n",
       "| 6117666160 | 2261.143 |\n",
       "| 6290855005 | 2599.621 |\n",
       "| 6775888955 | 2131.769 |\n",
       "| 6962181067 | 1982.032 |\n",
       "| 7007744171 | 2544.000 |\n",
       "| 7086361926 | 2566.355 |\n",
       "| 8053475328 | 2945.806 |\n",
       "| 8253242879 | 1788.000 |\n",
       "| 8378563200 | 3436.581 |\n",
       "| 8583815059 | 2732.032 |\n",
       "| 8792009665 | 1962.310 |\n",
       "| 8877689391 | 3420.258 |\n",
       "\n"
      ],
      "text/plain": [
       "   Id         mean    \n",
       "1  1503960366 1816.419\n",
       "2  1624580081 1483.355\n",
       "3  1644430081 2811.300\n",
       "4  1844505072 1573.484\n",
       "5  1927972279 2172.806\n",
       "6  2022484408 2509.968\n",
       "7  2026352035 1540.645\n",
       "8  2320127002 1724.161\n",
       "9  2347167796 2043.444\n",
       "10 2873212765 1916.968\n",
       "11 3372868164 1933.100\n",
       "12 3977333714 1513.667\n",
       "13 4020332650 2385.806\n",
       "14 4057192912 1973.750\n",
       "15 4319703577 2037.677\n",
       "16 4388161847 3093.871\n",
       "17 4445114986 2186.194\n",
       "18 4558609924 2033.258\n",
       "19 4702921684 2965.548\n",
       "20 5553957443 1875.677\n",
       "21 5577150313 3359.633\n",
       "22 6117666160 2261.143\n",
       "23 6290855005 2599.621\n",
       "24 6775888955 2131.769\n",
       "25 6962181067 1982.032\n",
       "26 7007744171 2544.000\n",
       "27 7086361926 2566.355\n",
       "28 8053475328 2945.806\n",
       "29 8253242879 1788.000\n",
       "30 8378563200 3436.581\n",
       "31 8583815059 2732.032\n",
       "32 8792009665 1962.310\n",
       "33 8877689391 3420.258"
      ]
     },
     "metadata": {},
     "output_type": "display_data"
    }
   ],
   "source": [
    "all_activities %>% \n",
    "  group_by(Id) %>% \n",
    "  summarise(mean=mean(Calories.activity))# the same for Calories.intensity"
   ]
  },
  {
   "cell_type": "code",
   "execution_count": 11,
   "id": "aadd61e7",
   "metadata": {
    "execution": {
     "iopub.execute_input": "2023-01-06T15:10:53.463089Z",
     "iopub.status.busy": "2023-01-06T15:10:53.461453Z",
     "iopub.status.idle": "2023-01-06T15:10:53.502757Z",
     "shell.execute_reply": "2023-01-06T15:10:53.500382Z"
    },
    "papermill": {
     "duration": 0.05951,
     "end_time": "2023-01-06T15:10:53.505639",
     "exception": false,
     "start_time": "2023-01-06T15:10:53.446129",
     "status": "completed"
    },
    "tags": []
   },
   "outputs": [
    {
     "data": {
      "text/html": [
       "<table class=\"dataframe\">\n",
       "<caption>A tibble: 24 × 2</caption>\n",
       "<thead>\n",
       "\t<tr><th scope=col>Id</th><th scope=col>mean</th></tr>\n",
       "\t<tr><th scope=col>&lt;dbl&gt;</th><th scope=col>&lt;dbl&gt;</th></tr>\n",
       "</thead>\n",
       "<tbody>\n",
       "\t<tr><td>1503960366</td><td>383.2000</td></tr>\n",
       "\t<tr><td>1644430081</td><td>346.0000</td></tr>\n",
       "\t<tr><td>1844505072</td><td>961.0000</td></tr>\n",
       "\t<tr><td>1927972279</td><td>437.8000</td></tr>\n",
       "\t<tr><td>2026352035</td><td>537.6429</td></tr>\n",
       "\t<tr><td>2320127002</td><td> 69.0000</td></tr>\n",
       "\t<tr><td>2347167796</td><td>491.3333</td></tr>\n",
       "\t<tr><td>3977333714</td><td>461.1429</td></tr>\n",
       "\t<tr><td>4020332650</td><td>379.7500</td></tr>\n",
       "\t<tr><td>4319703577</td><td>501.9615</td></tr>\n",
       "\t<tr><td>4388161847</td><td>423.2174</td></tr>\n",
       "\t<tr><td>4445114986</td><td>416.8214</td></tr>\n",
       "\t<tr><td>4558609924</td><td>140.0000</td></tr>\n",
       "\t<tr><td>4702921684</td><td>438.2222</td></tr>\n",
       "\t<tr><td>5553957443</td><td>505.8710</td></tr>\n",
       "\t<tr><td>5577150313</td><td>460.6154</td></tr>\n",
       "\t<tr><td>6117666160</td><td>510.1667</td></tr>\n",
       "\t<tr><td>6775888955</td><td>369.0000</td></tr>\n",
       "\t<tr><td>6962181067</td><td>466.1290</td></tr>\n",
       "\t<tr><td>7007744171</td><td> 71.5000</td></tr>\n",
       "\t<tr><td>7086361926</td><td>466.4167</td></tr>\n",
       "\t<tr><td>8053475328</td><td>301.6667</td></tr>\n",
       "\t<tr><td>8378563200</td><td>485.9355</td></tr>\n",
       "\t<tr><td>8792009665</td><td>453.8000</td></tr>\n",
       "</tbody>\n",
       "</table>\n"
      ],
      "text/latex": [
       "A tibble: 24 × 2\n",
       "\\begin{tabular}{ll}\n",
       " Id & mean\\\\\n",
       " <dbl> & <dbl>\\\\\n",
       "\\hline\n",
       "\t 1503960366 & 383.2000\\\\\n",
       "\t 1644430081 & 346.0000\\\\\n",
       "\t 1844505072 & 961.0000\\\\\n",
       "\t 1927972279 & 437.8000\\\\\n",
       "\t 2026352035 & 537.6429\\\\\n",
       "\t 2320127002 &  69.0000\\\\\n",
       "\t 2347167796 & 491.3333\\\\\n",
       "\t 3977333714 & 461.1429\\\\\n",
       "\t 4020332650 & 379.7500\\\\\n",
       "\t 4319703577 & 501.9615\\\\\n",
       "\t 4388161847 & 423.2174\\\\\n",
       "\t 4445114986 & 416.8214\\\\\n",
       "\t 4558609924 & 140.0000\\\\\n",
       "\t 4702921684 & 438.2222\\\\\n",
       "\t 5553957443 & 505.8710\\\\\n",
       "\t 5577150313 & 460.6154\\\\\n",
       "\t 6117666160 & 510.1667\\\\\n",
       "\t 6775888955 & 369.0000\\\\\n",
       "\t 6962181067 & 466.1290\\\\\n",
       "\t 7007744171 &  71.5000\\\\\n",
       "\t 7086361926 & 466.4167\\\\\n",
       "\t 8053475328 & 301.6667\\\\\n",
       "\t 8378563200 & 485.9355\\\\\n",
       "\t 8792009665 & 453.8000\\\\\n",
       "\\end{tabular}\n"
      ],
      "text/markdown": [
       "\n",
       "A tibble: 24 × 2\n",
       "\n",
       "| Id &lt;dbl&gt; | mean &lt;dbl&gt; |\n",
       "|---|---|\n",
       "| 1503960366 | 383.2000 |\n",
       "| 1644430081 | 346.0000 |\n",
       "| 1844505072 | 961.0000 |\n",
       "| 1927972279 | 437.8000 |\n",
       "| 2026352035 | 537.6429 |\n",
       "| 2320127002 |  69.0000 |\n",
       "| 2347167796 | 491.3333 |\n",
       "| 3977333714 | 461.1429 |\n",
       "| 4020332650 | 379.7500 |\n",
       "| 4319703577 | 501.9615 |\n",
       "| 4388161847 | 423.2174 |\n",
       "| 4445114986 | 416.8214 |\n",
       "| 4558609924 | 140.0000 |\n",
       "| 4702921684 | 438.2222 |\n",
       "| 5553957443 | 505.8710 |\n",
       "| 5577150313 | 460.6154 |\n",
       "| 6117666160 | 510.1667 |\n",
       "| 6775888955 | 369.0000 |\n",
       "| 6962181067 | 466.1290 |\n",
       "| 7007744171 |  71.5000 |\n",
       "| 7086361926 | 466.4167 |\n",
       "| 8053475328 | 301.6667 |\n",
       "| 8378563200 | 485.9355 |\n",
       "| 8792009665 | 453.8000 |\n",
       "\n"
      ],
      "text/plain": [
       "   Id         mean    \n",
       "1  1503960366 383.2000\n",
       "2  1644430081 346.0000\n",
       "3  1844505072 961.0000\n",
       "4  1927972279 437.8000\n",
       "5  2026352035 537.6429\n",
       "6  2320127002  69.0000\n",
       "7  2347167796 491.3333\n",
       "8  3977333714 461.1429\n",
       "9  4020332650 379.7500\n",
       "10 4319703577 501.9615\n",
       "11 4388161847 423.2174\n",
       "12 4445114986 416.8214\n",
       "13 4558609924 140.0000\n",
       "14 4702921684 438.2222\n",
       "15 5553957443 505.8710\n",
       "16 5577150313 460.6154\n",
       "17 6117666160 510.1667\n",
       "18 6775888955 369.0000\n",
       "19 6962181067 466.1290\n",
       "20 7007744171  71.5000\n",
       "21 7086361926 466.4167\n",
       "22 8053475328 301.6667\n",
       "23 8378563200 485.9355\n",
       "24 8792009665 453.8000"
      ]
     },
     "metadata": {},
     "output_type": "display_data"
    }
   ],
   "source": [
    "sleep %>% \n",
    "  group_by(Id) %>% \n",
    "  summarise(mean=mean(TotalTimeInBed))"
   ]
  },
  {
   "cell_type": "code",
   "execution_count": 12,
   "id": "eaff62a7",
   "metadata": {
    "execution": {
     "iopub.execute_input": "2023-01-06T15:10:53.536737Z",
     "iopub.status.busy": "2023-01-06T15:10:53.535044Z",
     "iopub.status.idle": "2023-01-06T15:10:53.643015Z",
     "shell.execute_reply": "2023-01-06T15:10:53.641016Z"
    },
    "papermill": {
     "duration": 0.126707,
     "end_time": "2023-01-06T15:10:53.646037",
     "exception": false,
     "start_time": "2023-01-06T15:10:53.519330",
     "status": "completed"
    },
    "tags": []
   },
   "outputs": [],
   "source": [
    "bit <-heart %>% \n",
    "  group_by(Id) %>% \n",
    "  summarise(mean=mean(Value))"
   ]
  },
  {
   "cell_type": "markdown",
   "id": "9a1c7b0f",
   "metadata": {
    "papermill": {
     "duration": 0.014056,
     "end_time": "2023-01-06T15:10:53.673324",
     "exception": false,
     "start_time": "2023-01-06T15:10:53.659268",
     "status": "completed"
    },
    "tags": []
   },
   "source": [
    "# Looking for patterns"
   ]
  },
  {
   "cell_type": "markdown",
   "id": "a91ef5b0",
   "metadata": {
    "papermill": {
     "duration": 0.013482,
     "end_time": "2023-01-06T15:10:53.700835",
     "exception": false,
     "start_time": "2023-01-06T15:10:53.687353",
     "status": "completed"
    },
    "tags": []
   },
   "source": [
    "#### Assuming that very basic armband devices measure steps and heart rate let's join the two data sets by id."
   ]
  },
  {
   "cell_type": "code",
   "execution_count": 13,
   "id": "88fea31e",
   "metadata": {
    "execution": {
     "iopub.execute_input": "2023-01-06T15:10:53.731966Z",
     "iopub.status.busy": "2023-01-06T15:10:53.730239Z",
     "iopub.status.idle": "2023-01-06T15:11:05.848533Z",
     "shell.execute_reply": "2023-01-06T15:11:05.846505Z"
    },
    "papermill": {
     "duration": 12.136943,
     "end_time": "2023-01-06T15:11:05.851408",
     "exception": false,
     "start_time": "2023-01-06T15:10:53.714465",
     "status": "completed"
    },
    "tags": []
   },
   "outputs": [
    {
     "name": "stderr",
     "output_type": "stream",
     "text": [
      "\u001b[1m\u001b[22mJoining, by = \"Id\"\n"
     ]
    }
   ],
   "source": [
    "armband <- steps %>% inner_join(heart) %>% group_by(Id)"
   ]
  },
  {
   "cell_type": "code",
   "execution_count": 14,
   "id": "85b07738",
   "metadata": {
    "execution": {
     "iopub.execute_input": "2023-01-06T15:11:05.882935Z",
     "iopub.status.busy": "2023-01-06T15:11:05.881225Z",
     "iopub.status.idle": "2023-01-06T15:11:05.911745Z",
     "shell.execute_reply": "2023-01-06T15:11:05.909286Z"
    },
    "papermill": {
     "duration": 0.049317,
     "end_time": "2023-01-06T15:11:05.914542",
     "exception": false,
     "start_time": "2023-01-06T15:11:05.865225",
     "status": "completed"
    },
    "tags": []
   },
   "outputs": [
    {
     "data": {
      "text/html": [
       "<style>\n",
       ".list-inline {list-style: none; margin:0; padding: 0}\n",
       ".list-inline>li {display: inline-block}\n",
       ".list-inline>li:not(:last-child)::after {content: \"\\00b7\"; padding: 0 .5ex}\n",
       "</style>\n",
       "<ol class=list-inline><li>65870731</li><li>5</li></ol>\n"
      ],
      "text/latex": [
       "\\begin{enumerate*}\n",
       "\\item 65870731\n",
       "\\item 5\n",
       "\\end{enumerate*}\n"
      ],
      "text/markdown": [
       "1. 65870731\n",
       "2. 5\n",
       "\n",
       "\n"
      ],
      "text/plain": [
       "[1] 65870731        5"
      ]
     },
     "metadata": {},
     "output_type": "display_data"
    },
    {
     "name": "stdout",
     "output_type": "stream",
     "text": [
      "tibble [14 × 1] (S3: tbl_df/tbl/data.frame)\n",
      " $ Id: num [1:14] 2.02e+09 2.03e+09 2.35e+09 4.02e+09 4.39e+09 ...\n"
     ]
    }
   ],
   "source": [
    "dim(armband)\n",
    "arm_ids <- armband %>% summarise()\n",
    "str(arm_ids)"
   ]
  },
  {
   "cell_type": "markdown",
   "id": "a46df35d",
   "metadata": {
    "papermill": {
     "duration": 0.014485,
     "end_time": "2023-01-06T15:11:05.943185",
     "exception": false,
     "start_time": "2023-01-06T15:11:05.928700",
     "status": "completed"
    },
    "tags": []
   },
   "source": [
    "#### I think we have 14 armbands the data were collected from. As its Id is present in a wider set of all_activities (33 observations) where calories are measured, and that requires the knowledge both of distance as well as body mass, and the count of unique calories Id's is equal to the count of all_activities, I resume that this 14 armbands are some basic devices and the rest of 21 could be others, more advanced ie. smartwatches."
   ]
  },
  {
   "cell_type": "markdown",
   "id": "7917a32a",
   "metadata": {
    "papermill": {
     "duration": 0.019702,
     "end_time": "2023-01-06T15:11:05.977177",
     "exception": false,
     "start_time": "2023-01-06T15:11:05.957475",
     "status": "completed"
    },
    "tags": []
   },
   "source": [
    "## What are Sedentary, Moderate & High Activity Exercise Levels? | [livestrong](https://www.livestrong.com/article/401892-what-are-sedentary-moderate-high-activity-exercise-levels/)"
   ]
  },
  {
   "cell_type": "markdown",
   "id": "0acf878d",
   "metadata": {
    "papermill": {
     "duration": 0.014552,
     "end_time": "2023-01-06T15:11:06.005825",
     "exception": false,
     "start_time": "2023-01-06T15:11:05.991273",
     "status": "completed"
    },
    "tags": []
   },
   "source": [
    "According to the[ 10,000 Steps Project](https://www.10000steps.org.au/articles/counting-steps/), people who take fewer than 5,000 steps a day have a sedentary lifestyle. The next level counts 5000-7499 steps is said as low activity level. Increasing your activity level to anywhere between 7,500 and 10,000 steps would place you into the moderate, or somewhat active, level. The active level is 10000 steps. Only those individuals who take more than 12,500 steps each day are considered highly active."
   ]
  },
  {
   "cell_type": "markdown",
   "id": "3986f248",
   "metadata": {
    "papermill": {
     "duration": 0.014293,
     "end_time": "2023-01-06T15:11:06.034445",
     "exception": false,
     "start_time": "2023-01-06T15:11:06.020152",
     "status": "completed"
    },
    "tags": []
   },
   "source": [
    "This data set takes into account such a breakdown:"
   ]
  },
  {
   "cell_type": "code",
   "execution_count": 15,
   "id": "45f2b7e5",
   "metadata": {
    "execution": {
     "iopub.execute_input": "2023-01-06T15:11:06.068031Z",
     "iopub.status.busy": "2023-01-06T15:11:06.065981Z",
     "iopub.status.idle": "2023-01-06T15:11:06.086173Z",
     "shell.execute_reply": "2023-01-06T15:11:06.084168Z"
    },
    "papermill": {
     "duration": 0.040489,
     "end_time": "2023-01-06T15:11:06.089475",
     "exception": false,
     "start_time": "2023-01-06T15:11:06.048986",
     "status": "completed"
    },
    "tags": []
   },
   "outputs": [],
   "source": [
    "distribution <- c(\n",
    "sedentary_active <- length(which(all_activities$StepTotal <5000)),\n",
    "low_avtive       <- length(which(all_activities$StepTotal >= 5000 & all_activities$StepTotal <= 7499)),\n",
    "somewhat_active  <- length(which(all_activities$StepTotal >= 7500 & all_activities$StepTotal <= 9999)),\n",
    "active           <- length(which(all_activities$StepTotal >= 10000 & all_activities$StepTotal < 12500)),\n",
    "highly_active    <- length(which(all_activities$StepTotal >= 12500)))\n"
   ]
  },
  {
   "cell_type": "code",
   "execution_count": 16,
   "id": "d81cd170",
   "metadata": {
    "execution": {
     "iopub.execute_input": "2023-01-06T15:11:06.122038Z",
     "iopub.status.busy": "2023-01-06T15:11:06.120208Z",
     "iopub.status.idle": "2023-01-06T15:11:06.926058Z",
     "shell.execute_reply": "2023-01-06T15:11:06.923629Z"
    },
    "papermill": {
     "duration": 0.826448,
     "end_time": "2023-01-06T15:11:06.930130",
     "exception": false,
     "start_time": "2023-01-06T15:11:06.103682",
     "status": "completed"
    },
    "tags": []
   },
   "outputs": [],
   "source": [
    "percent <- round((distribution*100)/sum(distribution), digits = 1)\n",
    "\n",
    "#create data frame\n",
    "pie <- data.frame(\"category\" = factor(c('sedentary','low','somewhat','active','highly'),levels=c('sedentary','low','somewhat','active','highly'),ordered=TRUE), \"amount\" = percent)\n",
    "\n",
    "#create pie chart\n",
    "plot1 <- ggplot(pie, aes(x=\"\", y=amount, fill=category)) +\n",
    "  geom_bar(stat=\"identity\", width=1) +\n",
    "  coord_polar(\"y\", start=0) +\n",
    "  geom_text(aes(label = paste0(amount, \"%\")),size=3, position = position_stack(vjust=0.5)) +\n",
    "  labs(x = NULL, y = NULL, fill = NULL, title = \"Users activity by breakdown\",subtitle=\"according to 10000 Steps Project\",tag=\"Overall\") +\n",
    "  theme_classic() +\n",
    "  theme(axis.line = element_blank(),\n",
    "          axis.text = element_blank(),\n",
    "          axis.ticks = element_blank()) +\n",
    "  scale_fill_manual(values=c(\"#FF5733\", \"#BD33FF\", \"#33DBFF\", \"#75FF33\", \"#F0D090\"))\n",
    "\n",
    "ggsave(\"pics/overall_steps.png\",plot=plot1,width=16,height=10,units=\"cm\")"
   ]
  },
  {
   "cell_type": "markdown",
   "id": "8de3d056",
   "metadata": {
    "papermill": {
     "duration": 0.014247,
     "end_time": "2023-01-06T15:11:06.958993",
     "exception": false,
     "start_time": "2023-01-06T15:11:06.944746",
     "status": "completed"
    },
    "tags": []
   },
   "source": [
    "#### It is time to see if armband data set is a part of all_devices data set."
   ]
  },
  {
   "cell_type": "code",
   "execution_count": 17,
   "id": "1102aed7",
   "metadata": {
    "execution": {
     "iopub.execute_input": "2023-01-06T15:11:06.993142Z",
     "iopub.status.busy": "2023-01-06T15:11:06.990813Z",
     "iopub.status.idle": "2023-01-06T15:11:07.037966Z",
     "shell.execute_reply": "2023-01-06T15:11:07.034955Z"
    },
    "papermill": {
     "duration": 0.068495,
     "end_time": "2023-01-06T15:11:07.041989",
     "exception": false,
     "start_time": "2023-01-06T15:11:06.973494",
     "status": "completed"
    },
    "tags": []
   },
   "outputs": [
    {
     "name": "stdout",
     "output_type": "stream",
     "text": [
      "Found item 1 with id = 2022484408 \n",
      "Found item 2 with id = 2026352035 \n",
      "Found item 3 with id = 2347167796 \n",
      "Found item 4 with id = 4020332650 \n",
      "Found item 5 with id = 4388161847 \n",
      "Found item 6 with id = 4558609924 \n",
      "Found item 7 with id = 5553957443 \n",
      "Found item 8 with id = 5577150313 \n",
      "Found item 9 with id = 6117666160 \n",
      "Found item 10 with id = 6775888955 \n",
      "Found item 11 with id = 6962181067 \n",
      "Found item 12 with id = 7007744171 \n",
      "Found item 13 with id = 8792009665 \n",
      "Found item 14 with id = 8877689391 \n"
     ]
    }
   ],
   "source": [
    "for(item in seq_along(as.vector(arm_ids[[1]]))){\n",
    "    if((arm_ids[[1]][item] %in% arm_ids[[1]]) & (arm_ids[[1]][item] %in% all_activities[[1]]))\n",
    "    {\n",
    "      cat(\"Found item\",item,\"with id =\",arm_ids[[1]][item],\"\\n\",sep=\" \")\n",
    "      }\n",
    "      else print(\"Not found\")\n",
    "    }"
   ]
  },
  {
   "cell_type": "markdown",
   "id": "4c685da3",
   "metadata": {
    "papermill": {
     "duration": 0.014162,
     "end_time": "2023-01-06T15:11:07.070609",
     "exception": false,
     "start_time": "2023-01-06T15:11:07.056447",
     "status": "completed"
    },
    "tags": []
   },
   "source": [
    "> The result of the above comparison indicates that the devices, considered by me as arm bands are included in the overall data set. Let's see if they differ from the total by checking the breakdown by number of steps for these devices only."
   ]
  },
  {
   "cell_type": "code",
   "execution_count": 18,
   "id": "fcfc52cc",
   "metadata": {
    "execution": {
     "iopub.execute_input": "2023-01-06T15:11:07.144992Z",
     "iopub.status.busy": "2023-01-06T15:11:07.142507Z",
     "iopub.status.idle": "2023-01-06T15:11:07.741743Z",
     "shell.execute_reply": "2023-01-06T15:11:07.739095Z"
    },
    "papermill": {
     "duration": 0.660509,
     "end_time": "2023-01-06T15:11:07.745598",
     "exception": false,
     "start_time": "2023-01-06T15:11:07.085089",
     "status": "completed"
    },
    "tags": []
   },
   "outputs": [],
   "source": [
    "arm_steps <- sqldf(\"SELECT * FROM all_activities\n",
    "             WHERE Id IN arm_ids\")\n",
    "arm_steps <- arm_steps[complete.cases(arm_steps),]# remove NA\n",
    "mean_arm_steps <-\n",
    "  arm_steps %>% group_by(Id) %>% summarise(mean=mean(StepTotal))\n",
    "\n",
    "arm_distribution <-\n",
    "  c(\n",
    "    sedentary_active <- length(which(mean_arm_steps$mean < 5000)),\n",
    "    low_avtive       <-length(which((mean_arm_steps$mean >= 5000) &\n",
    "      (mean_arm_steps$mean <= 7499))),\n",
    "    somewhat_active  <-length(which((mean_arm_steps$mean >= 7500) &\n",
    "      (mean_arm_steps$mean <= 9999))),\n",
    "    active           <-length(which((mean_arm_steps$mean >= 10000) &\n",
    "      (mean_arm_steps$mean < 12500))),\n",
    "    highly_active    <- length(which(mean_arm_steps$mean >= 12500))\n",
    "  )\n",
    "percent <- round((arm_distribution*100)/sum(arm_distribution), digits = 1)\n",
    "\n",
    "#create data frame\n",
    "pie <- data.frame(\"category\" = factor(c('sedentary','low','somewhat','active','highly'),levels=c('sedentary','low','somewhat','active','highly'),ordered=TRUE), \"amount\" = percent)\n",
    "\n",
    "#create pie chart\n",
    "plot2<-ggplot(pie, aes(x=\"\", y=amount, fill=category)) +\n",
    "  geom_bar(stat=\"identity\", width=1,show.legend=FALSE) +\n",
    "  coord_polar(\"y\", start=0) +\n",
    "  geom_text(aes(label = paste0(amount, \"%\")),size=3, position = position_stack(vjust=0.5)) +\n",
    "  labs(x = NULL, y = NULL, fill = NULL, title = \"Users activity by breakdown \",subtitle=\"according to 10000 Steps Project\",tag=\"Armband\") +\n",
    "  theme_classic() +\n",
    "  theme(axis.line = element_blank(),\n",
    "          axis.text = element_blank(),\n",
    "          axis.ticks = element_blank()) +\n",
    "  scale_fill_manual(values=c(\"#FF5733\", \"#BD33FF\", \"#33DBFF\", \"#75FF33\", \"#F0D090\"))\n",
    "\n",
    "ggsave(\"pics/armband_users_steps.png\",plot=plot2,width=16,height=10,units=\"cm\")\n"
   ]
  },
  {
   "cell_type": "code",
   "execution_count": 19,
   "id": "fa5d3757",
   "metadata": {
    "execution": {
     "iopub.execute_input": "2023-01-06T15:11:07.783535Z",
     "iopub.status.busy": "2023-01-06T15:11:07.781219Z",
     "iopub.status.idle": "2023-01-06T15:11:08.809523Z",
     "shell.execute_reply": "2023-01-06T15:11:08.807545Z"
    },
    "papermill": {
     "duration": 1.050692,
     "end_time": "2023-01-06T15:11:08.813933",
     "exception": false,
     "start_time": "2023-01-06T15:11:07.763241",
     "status": "completed"
    },
    "tags": []
   },
   "outputs": [
    {
     "data": {
      "image/png": "[encoded data removed]"
     },
     "metadata": {
      "image/png": {
       "height": 420,
       "width": 420
      }
     },
     "output_type": "display_data"
    }
   ],
   "source": [
    "ggarrange(plot1,plot2,legend=\"bottom\",nrow=1)"
   ]
  },
  {
   "cell_type": "markdown",
   "id": "3939e6ce",
   "metadata": {
    "papermill": {
     "duration": 0.016295,
     "end_time": "2023-01-06T15:11:08.846646",
     "exception": false,
     "start_time": "2023-01-06T15:11:08.830351",
     "status": "completed"
    },
    "tags": []
   },
   "source": [
    "# The first insight"
   ]
  },
  {
   "cell_type": "markdown",
   "id": "987f3c9a",
   "metadata": {
    "papermill": {
     "duration": 0.015845,
     "end_time": "2023-01-06T15:11:08.879779",
     "exception": false,
     "start_time": "2023-01-06T15:11:08.863934",
     "status": "completed"
    },
    "tags": []
   },
   "source": [
    "##### Here we can see, that users of sedentary and low activity are here more rare listed in comparison to all users(30%-50%), as well as the moderate activity is here much bigger (19%-43%). The high activity level is a bit smaller. My insights here is that most moderate active users use armbands and the more and very active use more advanced devices.\n"
   ]
  },
  {
   "cell_type": "code",
   "execution_count": 20,
   "id": "d92f4ebb",
   "metadata": {
    "_kg_hide-input": false,
    "execution": {
     "iopub.execute_input": "2023-01-06T15:11:08.921059Z",
     "iopub.status.busy": "2023-01-06T15:11:08.919234Z",
     "iopub.status.idle": "2023-01-06T15:11:13.050643Z",
     "shell.execute_reply": "2023-01-06T15:11:13.047542Z"
    },
    "papermill": {
     "duration": 4.158697,
     "end_time": "2023-01-06T15:11:13.054619",
     "exception": false,
     "start_time": "2023-01-06T15:11:08.895922",
     "status": "completed"
    },
    "tags": []
   },
   "outputs": [
    {
     "name": "stderr",
     "output_type": "stream",
     "text": [
      "Warning message:\n",
      "“Removed 77 rows containing non-finite values (stat_smooth).”\n",
      "Warning message:\n",
      "“Removed 77 rows containing missing values (geom_point).”\n",
      "Warning message:\n",
      "“Removed 77 rows containing non-finite values (stat_smooth).”\n",
      "Warning message:\n",
      "“Removed 77 rows containing missing values (geom_point).”\n",
      "Warning message:\n",
      "“Removed 77 rows containing non-finite values (stat_smooth).”\n",
      "Warning message:\n",
      "“Removed 77 rows containing missing values (geom_point).”\n"
     ]
    },
    {
     "data": {
      "image/png": "[encoded data removed]"
     },
     "metadata": {
      "image/png": {
       "height": 420,
       "width": 420
      }
     },
     "output_type": "display_data"
    }
   ],
   "source": [
    "sed<-ggplot(data=all_activities, aes(x=StepTotal, y=SedentaryMinutes.intensities))+ geom_point(color='darkgreen')+\n",
    "  geom_smooth(method = \"gam\", formula=y ~ s(x,bs=\"cs\"))+\n",
    "  labs(title=\"Sedentary activity\",y = \"Sedentary Active Minutes\")\n",
    "\n",
    "fair<-ggplot(data=all_activities, aes(x=StepTotal, y=FairlyActiveMinutes.intensities)) + \n",
    "geom_point(color='blue') +\n",
    "  geom_smooth(method = \"gam\", formula=y ~ s(x,bs=\"cs\"))+\n",
    "  labs(title=\"Fairly activity\",y = \"Fairly Active Minutes\")\n",
    "\n",
    "very<-ggplot(data=all_activities, aes(x=StepTotal, y=VeryActiveMinutes.intensities)) + \n",
    "geom_point(color='darkred') +\n",
    "  geom_smooth(method = \"gam\", formula=y ~ s(x,bs=\"cs\"))+\n",
    "  labs(title=\"Big activity\",y = \"Very Active Minutes\")\n",
    "\n",
    "plot3 <- ggarrange(sed,fair,very)\n",
    "ggsave(\"pics/active_step_minutes.png\",plot=plot3,width=16,height=10,units=\"cm\")\n",
    "plot3"
   ]
  },
  {
   "cell_type": "markdown",
   "id": "77eac3f6",
   "metadata": {
    "papermill": {
     "duration": 0.019347,
     "end_time": "2023-01-06T15:11:13.093960",
     "exception": false,
     "start_time": "2023-01-06T15:11:13.074613",
     "status": "completed"
    },
    "tags": []
   },
   "source": [
    "#### The more active users are, the less minutes they train. It shows very poor condition of users with sedentary way of life.\n",
    "------------------------------------------------------------------------------"
   ]
  },
  {
   "cell_type": "markdown",
   "id": "51a481d1",
   "metadata": {
    "papermill": {
     "duration": 0.020047,
     "end_time": "2023-01-06T15:11:13.133549",
     "exception": false,
     "start_time": "2023-01-06T15:11:13.113502",
     "status": "completed"
    },
    "tags": []
   },
   "source": [
    "#### Here we have positive relation between active minutes and number of steps. Past about 15K of steps the activity seems to be almost constant - fairly active users do not cover distances longer than 15 km and they cover it with lower peace.\n",
    "\n",
    "------------------------------------------------------------------------------"
   ]
  },
  {
   "cell_type": "markdown",
   "id": "5a876c0a",
   "metadata": {
    "papermill": {
     "duration": 0.018854,
     "end_time": "2023-01-06T15:11:13.171359",
     "exception": false,
     "start_time": "2023-01-06T15:11:13.152505",
     "status": "completed"
    },
    "tags": []
   },
   "source": [
    "#### And here the activity is almost linear, and the pace seems to be faster - the longer distances are covered the more active minutes are present.\n",
    "--------------------------------------------------------------------------------------------------------------------------------\n",
    "\n",
    "\n",
    "\n"
   ]
  },
  {
   "cell_type": "markdown",
   "id": "c1383eed",
   "metadata": {
    "papermill": {
     "duration": 0.018435,
     "end_time": "2023-01-06T15:11:13.208260",
     "exception": false,
     "start_time": "2023-01-06T15:11:13.189825",
     "status": "completed"
    },
    "tags": []
   },
   "source": [
    "# And what about the weight?"
   ]
  },
  {
   "cell_type": "code",
   "execution_count": 21,
   "id": "5f2fe354",
   "metadata": {
    "execution": {
     "iopub.execute_input": "2023-01-06T15:11:13.253565Z",
     "iopub.status.busy": "2023-01-06T15:11:13.251196Z",
     "iopub.status.idle": "2023-01-06T15:11:13.335098Z",
     "shell.execute_reply": "2023-01-06T15:11:13.332614Z"
    },
    "papermill": {
     "duration": 0.110464,
     "end_time": "2023-01-06T15:11:13.339540",
     "exception": false,
     "start_time": "2023-01-06T15:11:13.229076",
     "status": "completed"
    },
    "tags": []
   },
   "outputs": [
    {
     "name": "stderr",
     "output_type": "stream",
     "text": [
      "\u001b[1m\u001b[22m`summarise()` has grouped output by 'Id'. You can override using the `.groups`\n",
      "argument.\n"
     ]
    },
    {
     "data": {
      "text/html": [
       "<table class=\"dataframe\">\n",
       "<caption>A grouped_df: 8 × 4</caption>\n",
       "<thead>\n",
       "\t<tr><th scope=col>Id</th><th scope=col>IsManualReport</th><th scope=col>mean_bmi</th><th scope=col>mean_weight</th></tr>\n",
       "\t<tr><th scope=col>&lt;dbl&gt;</th><th scope=col>&lt;lgl&gt;</th><th scope=col>&lt;dbl&gt;</th><th scope=col>&lt;dbl&gt;</th></tr>\n",
       "</thead>\n",
       "<tbody>\n",
       "\t<tr><td>1503960366</td><td> TRUE</td><td>22.65000</td><td> 52.60000</td></tr>\n",
       "\t<tr><td>1927972279</td><td>FALSE</td><td>47.54000</td><td>133.50000</td></tr>\n",
       "\t<tr><td>2873212765</td><td> TRUE</td><td>21.57000</td><td> 57.00000</td></tr>\n",
       "\t<tr><td>4319703577</td><td> TRUE</td><td>27.41500</td><td> 72.35000</td></tr>\n",
       "\t<tr><td>4558609924</td><td> TRUE</td><td>27.21400</td><td> 69.64000</td></tr>\n",
       "\t<tr><td>5577150313</td><td>FALSE</td><td>28.00000</td><td> 90.70000</td></tr>\n",
       "\t<tr><td>6962181067</td><td> TRUE</td><td>24.02800</td><td> 61.55333</td></tr>\n",
       "\t<tr><td>8877689391</td><td>FALSE</td><td>25.48708</td><td> 85.14583</td></tr>\n",
       "</tbody>\n",
       "</table>\n"
      ],
      "text/latex": [
       "A grouped\\_df: 8 × 4\n",
       "\\begin{tabular}{llll}\n",
       " Id & IsManualReport & mean\\_bmi & mean\\_weight\\\\\n",
       " <dbl> & <lgl> & <dbl> & <dbl>\\\\\n",
       "\\hline\n",
       "\t 1503960366 &  TRUE & 22.65000 &  52.60000\\\\\n",
       "\t 1927972279 & FALSE & 47.54000 & 133.50000\\\\\n",
       "\t 2873212765 &  TRUE & 21.57000 &  57.00000\\\\\n",
       "\t 4319703577 &  TRUE & 27.41500 &  72.35000\\\\\n",
       "\t 4558609924 &  TRUE & 27.21400 &  69.64000\\\\\n",
       "\t 5577150313 & FALSE & 28.00000 &  90.70000\\\\\n",
       "\t 6962181067 &  TRUE & 24.02800 &  61.55333\\\\\n",
       "\t 8877689391 & FALSE & 25.48708 &  85.14583\\\\\n",
       "\\end{tabular}\n"
      ],
      "text/markdown": [
       "\n",
       "A grouped_df: 8 × 4\n",
       "\n",
       "| Id &lt;dbl&gt; | IsManualReport &lt;lgl&gt; | mean_bmi &lt;dbl&gt; | mean_weight &lt;dbl&gt; |\n",
       "|---|---|---|---|\n",
       "| 1503960366 |  TRUE | 22.65000 |  52.60000 |\n",
       "| 1927972279 | FALSE | 47.54000 | 133.50000 |\n",
       "| 2873212765 |  TRUE | 21.57000 |  57.00000 |\n",
       "| 4319703577 |  TRUE | 27.41500 |  72.35000 |\n",
       "| 4558609924 |  TRUE | 27.21400 |  69.64000 |\n",
       "| 5577150313 | FALSE | 28.00000 |  90.70000 |\n",
       "| 6962181067 |  TRUE | 24.02800 |  61.55333 |\n",
       "| 8877689391 | FALSE | 25.48708 |  85.14583 |\n",
       "\n"
      ],
      "text/plain": [
       "  Id         IsManualReport mean_bmi mean_weight\n",
       "1 1503960366  TRUE          22.65000  52.60000  \n",
       "2 1927972279 FALSE          47.54000 133.50000  \n",
       "3 2873212765  TRUE          21.57000  57.00000  \n",
       "4 4319703577  TRUE          27.41500  72.35000  \n",
       "5 4558609924  TRUE          27.21400  69.64000  \n",
       "6 5577150313 FALSE          28.00000  90.70000  \n",
       "7 6962181067  TRUE          24.02800  61.55333  \n",
       "8 8877689391 FALSE          25.48708  85.14583  "
      ]
     },
     "metadata": {},
     "output_type": "display_data"
    }
   ],
   "source": [
    "minimax <-weight %>% \n",
    "  group_by(Id,IsManualReport) %>% \n",
    "  summarise(mean_bmi=mean(BMI), mean_weight=mean(WeightKg))\n",
    "minimax"
   ]
  },
  {
   "cell_type": "markdown",
   "id": "a7ecb990",
   "metadata": {
    "papermill": {
     "duration": 0.020864,
     "end_time": "2023-01-06T15:11:13.381109",
     "exception": false,
     "start_time": "2023-01-06T15:11:13.360245",
     "status": "completed"
    },
    "tags": []
   },
   "source": [
    "> We have eight measurements, three of which are not manual entries."
   ]
  },
  {
   "cell_type": "code",
   "execution_count": 22,
   "id": "291610b0",
   "metadata": {
    "execution": {
     "iopub.execute_input": "2023-01-06T15:11:13.426273Z",
     "iopub.status.busy": "2023-01-06T15:11:13.423677Z",
     "iopub.status.idle": "2023-01-06T15:11:13.488010Z",
     "shell.execute_reply": "2023-01-06T15:11:13.485389Z"
    },
    "papermill": {
     "duration": 0.089505,
     "end_time": "2023-01-06T15:11:13.490998",
     "exception": false,
     "start_time": "2023-01-06T15:11:13.401493",
     "status": "completed"
    },
    "tags": []
   },
   "outputs": [
    {
     "data": {
      "text/html": [
       "<table class=\"dataframe\">\n",
       "<caption>A tibble: 7 × 2</caption>\n",
       "<thead>\n",
       "\t<tr><th scope=col>weekday</th><th scope=col>daily_calories</th></tr>\n",
       "\t<tr><th scope=col>&lt;ord&gt;</th><th scope=col>&lt;dbl&gt;</th></tr>\n",
       "</thead>\n",
       "<tbody>\n",
       "\t<tr><td>Monday   </td><td>2324.208</td></tr>\n",
       "\t<tr><td>Tuesday  </td><td>2371.616</td></tr>\n",
       "\t<tr><td>Wednesday</td><td>2302.620</td></tr>\n",
       "\t<tr><td>Thursday </td><td>2229.910</td></tr>\n",
       "\t<tr><td>Friday   </td><td>2331.786</td></tr>\n",
       "\t<tr><td>Saturday </td><td>2374.114</td></tr>\n",
       "\t<tr><td>Sunday   </td><td>2263.000</td></tr>\n",
       "</tbody>\n",
       "</table>\n"
      ],
      "text/latex": [
       "A tibble: 7 × 2\n",
       "\\begin{tabular}{ll}\n",
       " weekday & daily\\_calories\\\\\n",
       " <ord> & <dbl>\\\\\n",
       "\\hline\n",
       "\t Monday    & 2324.208\\\\\n",
       "\t Tuesday   & 2371.616\\\\\n",
       "\t Wednesday & 2302.620\\\\\n",
       "\t Thursday  & 2229.910\\\\\n",
       "\t Friday    & 2331.786\\\\\n",
       "\t Saturday  & 2374.114\\\\\n",
       "\t Sunday    & 2263.000\\\\\n",
       "\\end{tabular}\n"
      ],
      "text/markdown": [
       "\n",
       "A tibble: 7 × 2\n",
       "\n",
       "| weekday &lt;ord&gt; | daily_calories &lt;dbl&gt; |\n",
       "|---|---|\n",
       "| Monday    | 2324.208 |\n",
       "| Tuesday   | 2371.616 |\n",
       "| Wednesday | 2302.620 |\n",
       "| Thursday  | 2229.910 |\n",
       "| Friday    | 2331.786 |\n",
       "| Saturday  | 2374.114 |\n",
       "| Sunday    | 2263.000 |\n",
       "\n"
      ],
      "text/plain": [
       "  weekday   daily_calories\n",
       "1 Monday    2324.208      \n",
       "2 Tuesday   2371.616      \n",
       "3 Wednesday 2302.620      \n",
       "4 Thursday  2229.910      \n",
       "5 Friday    2331.786      \n",
       "6 Saturday  2374.114      \n",
       "7 Sunday    2263.000      "
      ]
     },
     "metadata": {},
     "output_type": "display_data"
    }
   ],
   "source": [
    "weekday_calories <- calories %>%\n",
    "  mutate(weekday = weekdays(ActivityDate))\n",
    "\n",
    "\n",
    "weekday_calories$weekday <-ordered(weekday_calories$weekday, \n",
    "                        levels=c(\"Monday\",\"Tuesday\",\"Wednesday\",\"Thursday\",\"Friday\",\"Saturday\",\"Sunday\"))  \n",
    "\n",
    " mean_calories <-weekday_calories%>%\n",
    "  group_by(weekday) %>%\n",
    "  summarise (daily_calories = mean(Calories))\n",
    " \n",
    "head(mean_calories,n=7)"
   ]
  },
  {
   "cell_type": "code",
   "execution_count": 23,
   "id": "86f40c6f",
   "metadata": {
    "execution": {
     "iopub.execute_input": "2023-01-06T15:11:13.537738Z",
     "iopub.status.busy": "2023-01-06T15:11:13.535534Z",
     "iopub.status.idle": "2023-01-06T15:11:15.045892Z",
     "shell.execute_reply": "2023-01-06T15:11:15.041968Z"
    },
    "papermill": {
     "duration": 1.538958,
     "end_time": "2023-01-06T15:11:15.049473",
     "exception": false,
     "start_time": "2023-01-06T15:11:13.510515",
     "status": "completed"
    },
    "tags": []
   },
   "outputs": [
    {
     "data": {
      "image/png": "[encoded data removed]"
     },
     "metadata": {
      "image/png": {
       "height": 420,
       "width": 420
      }
     },
     "output_type": "display_data"
    }
   ],
   "source": [
    "\n",
    "plot4 <- gghistogram(weekday_calories,\n",
    "            title = \"Calories burned during the week\",\n",
    "            x=\"Calories\",\n",
    "            #y=\"count\",\n",
    "            size = 1,\n",
    "            add=\"median\",\n",
    "            bins=60, \n",
    "            combine=TRUE,\n",
    "            add_density=TRUE,\n",
    "            color=\"weekday\",\n",
    "            fill=\"weekday\",palette = c(\"#0000F0\",\"#00FF00\",\"#458399\",\"#A873C0\",\"#00AFBB\", \"#E7B800\",\"#F0000F\"))\n",
    "ggsave(\"pics/calories_histogram.png\",plot=plot4,width=16,height=10,units=\"cm\")\n",
    "plot4\n",
    "\n"
   ]
  },
  {
   "cell_type": "markdown",
   "id": "34ecfe53",
   "metadata": {
    "papermill": {
     "duration": 0.020033,
     "end_time": "2023-01-06T15:11:15.089664",
     "exception": false,
     "start_time": "2023-01-06T15:11:15.069631",
     "status": "completed"
    },
    "tags": []
   },
   "source": [
    ">The plot above shows that the most activities take place on Sundays, but the most active days are Tuesday and Friday."
   ]
  },
  {
   "cell_type": "markdown",
   "id": "993d0d83",
   "metadata": {
    "papermill": {
     "duration": 0.021153,
     "end_time": "2023-01-06T15:11:15.131368",
     "exception": false,
     "start_time": "2023-01-06T15:11:15.110215",
     "status": "completed"
    },
    "tags": []
   },
   "source": [
    "# SUMMARY"
   ]
  },
  {
   "cell_type": "markdown",
   "id": "3c87072f",
   "metadata": {
    "papermill": {
     "duration": 0.021181,
     "end_time": "2023-01-06T15:11:15.173581",
     "exception": false,
     "start_time": "2023-01-06T15:11:15.152400",
     "status": "completed"
    },
    "tags": []
   },
   "source": [
    "We have not enough data to gain insights into how consumers use non-Bellabeat smart devices based upon Fitbase Data from Fitbit .\n",
    "\n",
    "I strongly recommend to collect more data from different sources, maybe from smart fitness accessories producers.  But based on this slim data set I could point to some trends:\n",
    "\n",
    "    * Probably about a half of users are using armband devices.\n",
    "\n",
    "    * A very small percent of users has measurements from an intelligent scale.\n",
    "\n",
    "       Automatic and hand-made input values differ a lot. Probably hand-made inputs are not fair.\n",
    "\n",
    "    * Majority of users has poor condition.\n",
    "\n",
    "    * Majority of users is active on a short distances.\n",
    "\n",
    "    * Very active use more advanced devices.\n",
    "\n",
    "    * The most popular activity day is Sunday, but the most activity is present on other days.\n",
    "\n",
    "My proposal to a marketing strategy is, that Bellabeat should concentrate on invention of more advanced armbands, that could control a broader spectrum of activity.   I see also an opportunity to capture a new market for selling smart scales, which are not popular among users.  Bellabeat should go out to its users with an offer of free workout plans that would increase their activity, which would in effect encourage the use of more advanced devices.\n",
    "\n"
   ]
  },
  {
   "cell_type": "markdown",
   "id": "f42f7c38",
   "metadata": {
    "papermill": {
     "duration": 0.020382,
     "end_time": "2023-01-06T15:11:15.215462",
     "exception": false,
     "start_time": "2023-01-06T15:11:15.195080",
     "status": "completed"
    },
    "tags": []
   },
   "source": [
    "Thank you."
   ]
  }
 ],
 "metadata": {
  "kernelspec": {
   "display_name": "R",
   "language": "R",
   "name": "ir"
  },
  "language_info": {
   "codemirror_mode": "r",
   "file_extension": ".r",
   "mimetype": "text/x-r-source",
   "name": "R",
   "pygments_lexer": "r",
   "version": "4.0.5"
  },
  "papermill": {
   "default_parameters": {},
   "duration": 219.933869,
   "end_time": "2023-01-06T15:11:15.660001",
   "environment_variables": {},
   "exception": null,
   "input_path": "__notebook__.ipynb",
   "output_path": "__notebook__.ipynb",
   "parameters": {},
   "start_time": "2023-01-06T15:07:35.726132",
   "version": "2.4.0"
  }
 },
 "nbformat": 4,
 "nbformat_minor": 5
}
